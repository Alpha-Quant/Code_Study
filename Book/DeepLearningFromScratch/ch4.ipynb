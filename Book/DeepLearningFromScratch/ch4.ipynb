{
 "cells": [
  {
   "cell_type": "markdown",
   "metadata": {},
   "source": [
    "## 기울기"
   ]
  },
  {
   "cell_type": "markdown",
   "metadata": {},
   "source": [
    "앞에서는 $x_{0}$랑 $x_{1}$의 편미분을 별도의 함수 2개로 구분해 따로 계산했다.  \n",
    "그럼 $x_{0} = 3$, $x_{1} = 4$일 때 양쪽의 편미분을 묶어서 $(\\frac{\\partial{f}}{\\partial{x_{0}}}, \\frac{\\partial{f}}{\\partial{x_{1}}})$ 을 계산한다 해보자.  \n",
    "이 때 $(\\frac{\\partial{f}}{\\partial{x_{0}}}, \\frac{\\partial{f}}{\\partial{x_{1}}})$처럼 모든 변수의 편미분을 벡터로 정리한 것을 **기울기 gradient**라고 한다."
   ]
  }
 ],
 "metadata": {
  "kernelspec": {
   "display_name": "Python 3",
   "language": "python",
   "name": "python3"
  },
  "language_info": {
   "codemirror_mode": {
    "name": "ipython",
    "version": 3
   },
   "file_extension": ".py",
   "mimetype": "text/x-python",
   "name": "python",
   "nbconvert_exporter": "python",
   "pygments_lexer": "ipython3",
   "version": "3.5.2"
  }
 },
 "nbformat": 4,
 "nbformat_minor": 2
}
