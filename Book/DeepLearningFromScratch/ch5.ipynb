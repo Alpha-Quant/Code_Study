{
 "cells": [
  {
   "cell_type": "markdown",
   "metadata": {
    "deletable": true,
    "editable": true
   },
   "source": [
    "# 오차역전파법 backpropagation\n",
    "- 계산그래프\n",
    "- 연쇄법칙\n",
    "- 역전파\n",
    "- 단순한 계층 구현\n",
    "- 활성화 함수 계층 구현\n",
    "- Affine/Softmax 계층 구현\n",
    "- 오차역전파법 구현하기"
   ]
  },
  {
   "cell_type": "markdown",
   "metadata": {
    "deletable": true,
    "editable": true
   },
   "source": [
    "## 개요 "
   ]
  },
  {
   "cell_type": "markdown",
   "metadata": {
    "deletable": true,
    "editable": true
   },
   "source": [
    "4장에서는 신경망 매개변수의 기울기(정확히는 W, b들에 대한 손실 함수의 기울기)를 수치 미분을 통해 구했다.  \n",
    "단순하고 구현이 쉽지만 계산 시간이 오래 걸린다.\n",
    "\n",
    "> 진짜 1만번 반복중 1번 반복에 30초씩 걸렸는데 오차역전파법을 사용하니 5초만에 1만번 반복이 끝났다.\n",
    "\n",
    "오차역전파법을 이해하는 방법엔 두 가지가 있다.  \n",
    "하느는 수식을 통한 것, 하나는 계산 그래프를 통한 것  \n",
    "대부분은 전자로 설명하지만 여기선 그래프를 통해 **시각적**으로 이해해보자."
   ]
  },
  {
   "cell_type": "markdown",
   "metadata": {
    "collapsed": true,
    "deletable": true,
    "editable": true
   },
   "source": [
    "## 계산그래프"
   ]
  },
  {
   "cell_type": "markdown",
   "metadata": {
    "collapsed": true,
    "deletable": true,
    "editable": true
   },
   "source": [
    "## 연쇄법칙"
   ]
  },
  {
   "cell_type": "markdown",
   "metadata": {
    "collapsed": true,
    "deletable": true,
    "editable": true
   },
   "source": [
    "## 역전파"
   ]
  },
  {
   "cell_type": "markdown",
   "metadata": {
    "collapsed": true,
    "deletable": true,
    "editable": true
   },
   "source": [
    "책 내용이라 생략  \n",
    "계산 그래프가 이해하기 쉬었으나 수식으로 배우는게 더 멋짐  \n",
    "스터디에서 `@simnalamburt`님의 발표로 수식으로 배움"
   ]
  },
  {
   "cell_type": "markdown",
   "metadata": {
    "collapsed": true,
    "deletable": true,
    "editable": true
   },
   "source": [
    "## 단순한 계층 구현"
   ]
  },
  {
   "cell_type": "markdown",
   "metadata": {
    "collapsed": true,
    "deletable": true,
    "editable": true
   },
   "source": [
    "## 활성화 함수 계층 구현"
   ]
  },
  {
   "cell_type": "markdown",
   "metadata": {
    "collapsed": true,
    "deletable": true,
    "editable": true
   },
   "source": [
    "## Affine/Softmax 계층 구현"
   ]
  },
  {
   "cell_type": "code",
   "execution_count": 1,
   "metadata": {
    "collapsed": true,
    "deletable": true,
    "editable": true
   },
   "outputs": [],
   "source": [
    "%pycat layers.py"
   ]
  },
  {
   "cell_type": "markdown",
   "metadata": {
    "deletable": true,
    "editable": true
   },
   "source": [
    "## 오차역전파법 구현하기"
   ]
  },
  {
   "cell_type": "code",
   "execution_count": 4,
   "metadata": {
    "collapsed": false,
    "deletable": true,
    "editable": true
   },
   "outputs": [],
   "source": [
    "import numpy as np\n",
    "from collections import OrderedDict\n",
    "from layers import SoftmaxWithLoss, Affine, Relu\n",
    "from common.gradient import numerical_gradient\n",
    "\n",
    "class TwoLayerNet:\n",
    "    def __init__(self, input_size, hidden_size, output_size, weight_init_std=0.01):\n",
    "        self.params = None\n",
    "        self.layers = None\n",
    "        self.last_layer = None\n",
    "        \n",
    "        self.init_params(input_size, hidden_size, output_size, weight_init_std)\n",
    "        self.init_layers()\n",
    "        \n",
    "    def init_params(self, input_size, hidden_size, output_size, weight_init_std):\n",
    "        self.params = {}\n",
    "        self.params[\"W1\"] = np.random.randn(input_size, hidden_size) * weight_init_std\n",
    "        self.params[\"b1\"] = np.zeros(hidden_size)\n",
    "        self.params[\"W2\"] = np.random.randn(hidden_size, output_size) * weight_init_std\n",
    "        self.params[\"b2\"] = np.zeros(output_size)\n",
    "        \n",
    "    def init_layers(self):\n",
    "        self.layers = OrderedDict()\n",
    "        self.layers[\"Affine1\"] = Affine(self.params[\"W1\"], self.params[\"b1\"])\n",
    "        self.layers[\"Relu\"] = Relu()\n",
    "        self.layers[\"Affine2\"] = Affine(self.params[\"W2\"], self.params[\"b2\"])\n",
    "        self.last_layer = SoftmaxWithLoss()\n",
    "    \n",
    "    def predict(self, x):\n",
    "        for layer in self.layers.values():\n",
    "            x = layer.forward(x)\n",
    "        return x\n",
    "    \n",
    "    def loss(self, x, t):\n",
    "        y = self.predict(x)\n",
    "        loss = self.last_layer.forward(y, t)\n",
    "        return loss\n",
    "    \n",
    "    def accuracy(self, x, t):\n",
    "        y = self.predict(x)\n",
    "        y = np.argmax(y, axis=1)  # 열을 하나로 축소\n",
    "        if t.ndim != 1:  # one-hot-encoding == True\n",
    "            t = np.argmax(t, axis=1)\n",
    "        \n",
    "        acc = np.sum(y == t) / x.shape[0]\n",
    "        return acc\n",
    "    \n",
    "    def gradient(self, x, t):\n",
    "        # 순전파\n",
    "        self.loss(x, t)\n",
    "        \n",
    "        # 역전파\n",
    "        dout = 1\n",
    "        dout = self.last_layer.backward(dout)\n",
    "        \n",
    "        layers = list(self.layers.values())\n",
    "        layers.reverse()\n",
    "        for layer in layers:\n",
    "            dout = layer.backward(dout)\n",
    "            \n",
    "        # 결과 저장\n",
    "        grads = {}\n",
    "        grads[\"W1\"] = self.layers[\"Affine1\"].dW\n",
    "        grads[\"b1\"] = self.layers[\"Affine1\"].db\n",
    "        grads[\"W2\"] = self.layers[\"Affine2\"].dW\n",
    "        grads[\"b2\"] = self.layers[\"Affine2\"].db\n",
    "        return grads\n",
    "    \n",
    "    def numerical_gradient(self, x, t):\n",
    "        loss_W = lambda W: self.loss(x, t)\n",
    "        \n",
    "        grads = {}\n",
    "        grads[\"W1\"] = numerical_gradient(loss_W, self.params[\"W1\"])\n",
    "        grads[\"b1\"] = numerical_gradient(loss_W, self.params[\"b1\"])\n",
    "        grads[\"W2\"] = numerical_gradient(loss_W, self.params[\"W2\"])\n",
    "        grads[\"b2\"] = numerical_gradient(loss_W, self.params[\"b2\"])\n",
    "        return grads\n",
    "        "
   ]
  },
  {
   "cell_type": "markdown",
   "metadata": {},
   "source": [
    "`layers` 모듈의 `SoftmaxWithLoss` 클래스에서 `backward()` 부분을 책의 구현에서 조금 바꿨다.  \n",
    "책에서는 아래와 같이 구현했다.  \n",
    "```python\n",
    "def backward(self, dout=1):\n",
    "        batch_size = self.t.shape[0]\n",
    "        dx = (self.y - self.t) / batch_size\n",
    "        return dx\n",
    "```\n",
    "이럴경우 정답 라벨인 `t`가 `one-hot-encoding`이 되어있지 않고 `[5, 0, 2]`같은 형식으로 주어졌을 경우  \n",
    "`self.y - self.t` 이 부분에서 제대로 연산이 이루어 지지 않는다.  \n",
    "그래서 만약 `t`를 검사해 `one-hot-encoding`이 되어있지 않을 경우 `[0, 0, 0, 0, 1, 0, 0, 0, 0, 0]`의 형식으로 바꿔주는 부분을 추가했다.  \n",
    "```python\n",
    "def backward(self, dout=1):\n",
    "        if self.t.ndim == 1:\n",
    "            temp = np.zeros_like(self.y)\n",
    "            temp[np.arange(temp.shape[0]), self.t] = 1\n",
    "            self.t = temp\n",
    "        batch_size = self.t.shape[0]\n",
    "        dx = (self.y - self.t) / batch_size\n",
    "        return dx\n",
    "```"
   ]
  },
  {
   "cell_type": "markdown",
   "metadata": {
    "deletable": true,
    "editable": true
   },
   "source": [
    "### 오차역전파법 기울기 검증"
   ]
  },
  {
   "cell_type": "code",
   "execution_count": 9,
   "metadata": {
    "collapsed": false,
    "deletable": true,
    "editable": true
   },
   "outputs": [],
   "source": [
    "import numpy as np\n",
    "import mnist\n",
    "\n",
    "dataset = mnist.load(normalize=True)\n",
    "\n",
    "network = TwoLayerNet(784, 50, 10)\n",
    "\n",
    "x_batch  = dataset[\"train_img\"][:3]\n",
    "t_batch = dataset[\"train_label\"][:3]\n",
    "\n",
    "grad_backprop = network.gradient(x_batch, t_batch)\n",
    "grad_numerical = network.numerical_gradient(x_batch, t_batch)"
   ]
  },
  {
   "cell_type": "code",
   "execution_count": 10,
   "metadata": {
    "collapsed": false,
    "deletable": true,
    "editable": true
   },
   "outputs": [
    {
     "name": "stdout",
     "output_type": "stream",
     "text": [
      "b1 : 8.23419746016e-13\n",
      "W1 : 2.17966673465e-13\n",
      "b2 : 1.20792256753e-10\n",
      "W2 : 8.3351886157e-13\n"
     ]
    }
   ],
   "source": [
    "for key in grad_backprop.keys():\n",
    "    diff = np.average(np.abs(grad_backprop[key] - grad_numerical[key]))\n",
    "    print(key + \" : \" + str(diff))"
   ]
  },
  {
   "cell_type": "markdown",
   "metadata": {},
   "source": [
    "### 오차역전파법 학습 구현"
   ]
  },
  {
   "cell_type": "code",
   "execution_count": 17,
   "metadata": {
    "collapsed": false
   },
   "outputs": [],
   "source": [
    "import numpy as np\n",
    "import mnist\n",
    "\n",
    "np.random.seed(0)\n",
    "\n",
    "dataset = mnist.load(normalize=True, one_hot_label=True)\n",
    "network = TwoLayerNet(784, 50, 10)\n",
    "\n",
    "iters_num = 10000\n",
    "train_size = dataset[\"train_img\"].shape[0]\n",
    "batch_size = 100\n",
    "learning_rate = 0.1\n",
    "\n",
    "train_loss_list = []\n",
    "train_acc_list = []\n",
    "test_acc_list = []\n",
    "\n",
    "iter_per_epoch = max(train_size / batch_size, 1)  # 600"
   ]
  },
  {
   "cell_type": "code",
   "execution_count": 39,
   "metadata": {
    "collapsed": false
   },
   "outputs": [
    {
     "name": "stdout",
     "output_type": "stream",
     "text": [
      "iter\ttrain_acc\ttest_acc\tloss\n",
      "    0\t   100.0%\t   97.42%\t0.007625497799475946\n",
      "  600\t    99.0%\t    97.4%\t0.021769863988346783\n",
      " 1200\t   100.0%\t    97.4%\t0.008484898298744546\n",
      " 1800\t   100.0%\t   97.42%\t0.015333534703443195\n",
      " 2400\t   100.0%\t    97.4%\t0.00778191393346404\n",
      " 3000\t   100.0%\t   97.54%\t0.012346575913625995\n",
      " 3600\t   100.0%\t   97.43%\t0.010657455152127708\n",
      " 4200\t    99.0%\t   97.46%\t0.026616039571580048\n",
      " 4800\t   100.0%\t   97.57%\t0.006127909928825205\n",
      " 5400\t   100.0%\t   97.53%\t0.01229057202456569\n",
      " 6000\t   100.0%\t   97.56%\t0.006984050450962351\n",
      " 6600\t   100.0%\t    97.5%\t0.0133212801942587\n",
      " 7200\t   100.0%\t   97.63%\t0.008119606019723015\n",
      " 7800\t   100.0%\t   97.62%\t0.0040247582809385864\n",
      " 8400\t   100.0%\t   97.62%\t0.005169623353400729\n",
      " 9000\t   100.0%\t   97.54%\t0.006350156384282134\n",
      " 9600\t   100.0%\t   97.46%\t0.009064879845322641\n",
      "경과시간 : 37.192초\n"
     ]
    }
   ],
   "source": [
    "from time import time\n",
    "\n",
    "print(\"iter\\ttrain_acc\\ttest_acc\\tloss\")\n",
    "start = time()\n",
    "for i in range(iters_num):\n",
    "    mask = np.random.choice(train_size, batch_size)\n",
    "    x = dataset[\"train_img\"][mask]\n",
    "    t = dataset[\"train_label\"][mask]\n",
    "    \n",
    "    grad = network.gradient(x, t)\n",
    "    \n",
    "    for key in grad.keys():\n",
    "        network.params[key] -= learning_rate * grad[key]\n",
    "        \n",
    "    loss = network.loss(x, t)\n",
    "    train_loss_list.append(loss)\n",
    "    \n",
    "    if i % iter_per_epoch == 0:\n",
    "        train_acc = network.accuracy(x, t)\n",
    "        test_acc = network.accuracy(dataset[\"test_img\"], dataset[\"test_label\"])\n",
    "        train_acc_list.append(train_acc)\n",
    "        test_acc_list.append(test_acc)\n",
    "        print(\"{:5}\\t{:8.04}%\\t{:8.04}%\\t{}\".format(i, train_acc*100, test_acc*100, loss))\n",
    "\n",
    "elapsed = time() - start\n",
    "print(\"경과시간 : %.3f초\" % elapsed)"
   ]
  },
  {
   "cell_type": "code",
   "execution_count": 40,
   "metadata": {
    "collapsed": false,
    "scrolled": true
   },
   "outputs": [
    {
     "data": {
      "image/png": "[encoded data removed]",
      "text/plain": [
       "<matplotlib.figure.Figure at 0x170820c3978>"
      ]
     },
     "metadata": {},
     "output_type": "display_data"
    }
   ],
   "source": [
    "import matplotlib.pyplot as plt\n",
    "plt.plot(train_loss_list)\n",
    "plt.show();"
   ]
  },
  {
   "cell_type": "code",
   "execution_count": 41,
   "metadata": {
    "collapsed": false
   },
   "outputs": [
    {
     "data": {
      "image/png": "[encoded data removed]",
      "text/plain": [
       "<matplotlib.figure.Figure at 0x1708202e978>"
      ]
     },
     "metadata": {},
     "output_type": "display_data"
    }
   ],
   "source": [
    "plt.plot(train_acc_list, linestyle=\"--\", label=\"train\")\n",
    "plt.plot(test_acc_list, label=\"test\")\n",
    "plt.xlabel(\"epoch\")\n",
    "plt.ylabel(\"accuracy\")\n",
    "plt.legend()\n",
    "plt.show();"
   ]
  },
  {
   "cell_type": "code",
   "execution_count": 42,
   "metadata": {
    "collapsed": false,
    "deletable": true,
    "editable": true
   },
   "outputs": [
    {
     "data": {
      "image/png": "[encoded data removed]",
      "text/plain": [
       "<matplotlib.figure.Figure at 0x17081d514e0>"
      ]
     },
     "metadata": {},
     "output_type": "display_data"
    }
   ],
   "source": [
    "plt.plot(train_acc_list, linestyle=\"--\", label=\"train\")\n",
    "plt.plot(test_acc_list, label=\"test\")\n",
    "plt.xlabel(\"epoch\")\n",
    "plt.ylabel(\"accuracy\")\n",
    "plt.ylim([0.9, 1.01])\n",
    "plt.legend()\n",
    "plt.show();"
   ]
  },
  {
   "cell_type": "code",
   "execution_count": 45,
   "metadata": {
    "collapsed": false
   },
   "outputs": [
    {
     "data": {
      "text/plain": [
       "1.0"
      ]
     },
     "execution_count": 45,
     "metadata": {},
     "output_type": "execute_result"
    },
    {
     "data": {
      "text/plain": [
       "0.97629999999999995"
      ]
     },
     "execution_count": 45,
     "metadata": {},
     "output_type": "execute_result"
    },
    {
     "data": {
      "text/plain": [
       "0.0011825900849142354"
      ]
     },
     "execution_count": 45,
     "metadata": {},
     "output_type": "execute_result"
    }
   ],
   "source": [
    "np.max(train_acc_list)\n",
    "np.max(test_acc_list)\n",
    "np.min(train_loss_list)"
   ]
  },
  {
   "cell_type": "markdown",
   "metadata": {},
   "source": [
    "### 다른 파라매터로 실험"
   ]
  },
  {
   "cell_type": "code",
   "execution_count": 52,
   "metadata": {
    "collapsed": false,
    "deletable": true,
    "editable": true
   },
   "outputs": [],
   "source": [
    "import numpy as np\n",
    "import mnist\n",
    "\n",
    "np.random.seed(0)\n",
    "\n",
    "dataset = mnist.load(normalize=True, one_hot_label=True)\n",
    "network = TwoLayerNet(784, 200, 10)\n",
    "\n",
    "iters_num = 10000\n",
    "train_size = dataset[\"train_img\"].shape[0]\n",
    "batch_size = 100\n",
    "learning_rate = 0.3\n",
    "\n",
    "train_loss_list = []\n",
    "train_acc_list = []\n",
    "test_acc_list = []\n",
    "\n",
    "iter_per_epoch = max(train_size / batch_size, 1)  # 600"
   ]
  },
  {
   "cell_type": "code",
   "execution_count": 53,
   "metadata": {
    "collapsed": false,
    "deletable": true,
    "editable": true
   },
   "outputs": [
    {
     "name": "stdout",
     "output_type": "stream",
     "text": [
      "iter\ttrain_acc\ttest_acc\tloss\n",
      "    0\t    33.0%\t   27.59%\t2.2897762986673302\n",
      "  600\t    94.0%\t   93.83%\t0.21458890980458625\n",
      " 1200\t    99.0%\t   95.98%\t0.058585702013295764\n",
      " 1800\t    99.0%\t   96.72%\t0.03879860793173921\n",
      " 2400\t    99.0%\t   97.35%\t0.03865740078521979\n",
      " 3000\t    99.0%\t   97.46%\t0.0343643363129568\n",
      " 3600\t   100.0%\t   97.62%\t0.014718309196885554\n",
      " 4200\t   100.0%\t   97.76%\t0.019309266627104065\n",
      " 4800\t    97.0%\t   97.73%\t0.0873631441685338\n",
      " 5400\t   100.0%\t   97.81%\t0.00881833075967906\n",
      " 6000\t   100.0%\t   97.98%\t0.007526397400749173\n",
      " 6600\t   100.0%\t   97.99%\t0.008516733161393796\n",
      " 7200\t   100.0%\t   97.79%\t0.00500533278600424\n",
      " 7800\t   100.0%\t   98.14%\t0.003172575815792326\n",
      " 8400\t   100.0%\t    98.1%\t0.008034533269384017\n",
      " 9000\t   100.0%\t   98.13%\t0.006389916258547389\n",
      " 9600\t    99.0%\t   98.17%\t0.016325238027135872\n",
      "경과시간 : 127.124초\n"
     ]
    }
   ],
   "source": [
    "from time import time\n",
    "\n",
    "print(\"iter\\ttrain_acc\\ttest_acc\\tloss\")\n",
    "start = time()\n",
    "for i in range(iters_num):\n",
    "    mask = np.random.choice(train_size, batch_size)\n",
    "    x = dataset[\"train_img\"][mask]\n",
    "    t = dataset[\"train_label\"][mask]\n",
    "    \n",
    "    grad = network.gradient(x, t)\n",
    "    \n",
    "    for key in grad.keys():\n",
    "        network.params[key] -= learning_rate * grad[key]\n",
    "        \n",
    "    loss = network.loss(x, t)\n",
    "    train_loss_list.append(loss)\n",
    "    \n",
    "    if i % iter_per_epoch == 0:\n",
    "        train_acc = network.accuracy(x, t)\n",
    "        test_acc = network.accuracy(dataset[\"test_img\"], dataset[\"test_label\"])\n",
    "        train_acc_list.append(train_acc)\n",
    "        test_acc_list.append(test_acc)\n",
    "        print(\"{:5}\\t{:8.04}%\\t{:8.04}%\\t{}\".format(i, train_acc*100, test_acc*100, loss))\n",
    "\n",
    "elapsed = time() - start\n",
    "print(\"경과시간 : %.3f초\" % elapsed)"
   ]
  },
  {
   "cell_type": "code",
   "execution_count": 54,
   "metadata": {
    "collapsed": false,
    "deletable": true,
    "editable": true,
    "scrolled": true
   },
   "outputs": [
    {
     "data": {
      "image/png": "[encoded data removed]",
      "text/plain": [
       "<matplotlib.figure.Figure at 0x1708208fd30>"
      ]
     },
     "metadata": {},
     "output_type": "display_data"
    }
   ],
   "source": [
    "import matplotlib.pyplot as plt\n",
    "plt.plot(train_loss_list)\n",
    "plt.show();"
   ]
  },
  {
   "cell_type": "code",
   "execution_count": 55,
   "metadata": {
    "collapsed": false,
    "deletable": true,
    "editable": true
   },
   "outputs": [
    {
     "data": {
      "image/png": "[encoded data removed]",
      "text/plain": [
       "<matplotlib.figure.Figure at 0x170820c3cc0>"
      ]
     },
     "metadata": {},
     "output_type": "display_data"
    }
   ],
   "source": [
    "plt.plot(train_acc_list, linestyle=\"--\", label=\"train\")\n",
    "plt.plot(test_acc_list, label=\"test\")\n",
    "plt.xlabel(\"epoch\")\n",
    "plt.ylabel(\"accuracy\")\n",
    "plt.legend()\n",
    "plt.show();"
   ]
  },
  {
   "cell_type": "code",
   "execution_count": 56,
   "metadata": {
    "collapsed": false,
    "deletable": true,
    "editable": true
   },
   "outputs": [
    {
     "data": {
      "image/png": "[encoded data removed]",
      "text/plain": [
       "<matplotlib.figure.Figure at 0x17081f0b0f0>"
      ]
     },
     "metadata": {},
     "output_type": "display_data"
    }
   ],
   "source": [
    "plt.plot(train_acc_list, linestyle=\"--\", label=\"train\")\n",
    "plt.plot(test_acc_list, label=\"test\")\n",
    "plt.xlabel(\"epoch\")\n",
    "plt.ylabel(\"accuracy\")\n",
    "plt.ylim([0.9, 1.01])\n",
    "plt.legend()\n",
    "plt.show();"
   ]
  },
  {
   "cell_type": "code",
   "execution_count": 57,
   "metadata": {
    "collapsed": false,
    "deletable": true,
    "editable": true
   },
   "outputs": [
    {
     "data": {
      "text/plain": [
       "1.0"
      ]
     },
     "execution_count": 57,
     "metadata": {},
     "output_type": "execute_result"
    },
    {
     "data": {
      "text/plain": [
       "0.98170000000000002"
      ]
     },
     "execution_count": 57,
     "metadata": {},
     "output_type": "execute_result"
    },
    {
     "data": {
      "text/plain": [
       "0.00074500204197158098"
      ]
     },
     "execution_count": 57,
     "metadata": {},
     "output_type": "execute_result"
    }
   ],
   "source": [
    "np.max(train_acc_list)\n",
    "np.max(test_acc_list)\n",
    "np.min(train_loss_list)"
   ]
  }
 ],
 "metadata": {
  "kernelspec": {
   "display_name": "Python 3",
   "language": "python",
   "name": "python3"
  },
  "language_info": {
   "codemirror_mode": {
    "name": "ipython",
    "version": 3
   },
   "file_extension": ".py",
   "mimetype": "text/x-python",
   "name": "python",
   "nbconvert_exporter": "python",
   "pygments_lexer": "ipython3",
   "version": "3.5.2"
  }
 },
 "nbformat": 4,
 "nbformat_minor": 2
}
