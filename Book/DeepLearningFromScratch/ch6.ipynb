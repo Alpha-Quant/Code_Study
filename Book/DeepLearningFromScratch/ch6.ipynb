{
 "cells": [
  {
   "cell_type": "markdown",
   "metadata": {
    "deletable": true,
    "editable": true
   },
   "source": [
    "# 학습 관련 기술들\n",
    "- 매개변수 갱신\n",
    "- 가중치의 초깃값\n",
    "- 배치 정규화\n",
    "- 바른 학습을 위해\n",
    "- 적절한 하이퍼파라미터 값 찾기"
   ]
  },
  {
   "cell_type": "markdown",
   "metadata": {
    "deletable": true,
    "editable": true
   },
   "source": [
    "## 개요 "
   ]
  },
  {
   "cell_type": "markdown",
   "metadata": {
    "deletable": true,
    "editable": true
   },
   "source": [
    "이번 장에서 설명하는 기법을 이용하면 학습의 효율과 정확도를 높일 수 있다."
   ]
  },
  {
   "cell_type": "markdown",
   "metadata": {
    "collapsed": true,
    "deletable": true,
    "editable": true
   },
   "source": [
    "## 매개변수 갱신\n",
    "- 확률적 경사 하강법(SGD) 복습\n",
    "- SGD의 단점\n",
    "- 모멘텀\n",
    "- AdaGrad\n",
    "- Adam"
   ]
  },
  {
   "cell_type": "markdown",
   "metadata": {
    "collapsed": true,
    "deletable": true,
    "editable": true
   },
   "source": [
    "### SGD\n",
    "$ W \\leftarrow W - \\eta \\frac{\\partial L}{\\partial W} $  \n",
    "> $\\frac{\\partial L}{\\partial W}$은 $W$에 대한 손실 함수의 기울기  \n",
    "$\\eta$는 학습률"
   ]
  },
  {
   "cell_type": "code",
   "execution_count": 1,
   "metadata": {
    "collapsed": true,
    "deletable": true,
    "editable": true
   },
   "outputs": [],
   "source": [
    "class SGD:\n",
    "    def __init__(self, lr=0.01):\n",
    "        self.lr = lr\n",
    "    \n",
    "    def update(self, params, grads):\n",
    "        for key in params.keys():\n",
    "            params[key] -= self.lr * grads[key]"
   ]
  },
  {
   "cell_type": "markdown",
   "metadata": {
    "deletable": true,
    "editable": true
   },
   "source": [
    "### 모멘텀 (Momentum)\n",
    "왜 얘만 한글이지 외롭지 않게 괄호를 붙여주었다 ^^  \n",
    "\n",
    "$v \\leftarrow \\alpha v - \\eta \\frac{\\partial L}{\\partial W}$   \n",
    "$W \\leftarrow W + v$  \n",
    "아까랑 다른건 $v$가 생긴거고 이 $v$는 단순히 아까에서 $\\alpha v$만 더해진거임\n",
    "> $v$는 속도, $\\alpha v$는 지면 마찰, 공기 저항과 같은 역할\n"
   ]
  },
  {
   "cell_type": "code",
   "execution_count": 2,
   "metadata": {
    "collapsed": false,
    "deletable": true,
    "editable": true
   },
   "outputs": [],
   "source": [
    "class Momentum:\n",
    "    def __init__(self, lr=0.01, momentum=0.9):\n",
    "        self.lr = lr\n",
    "        self.momentum = momentum\n",
    "        self.v = None\n",
    "    \n",
    "    def update(self, params, grads):\n",
    "        if self.v is None:\n",
    "            self.v = {}\n",
    "            for key, value in params.items():\n",
    "                self.v[key] = np.zeros_like(value)\n",
    "        \n",
    "        for key in params.keys():\n",
    "            self.v[key] = self.momentum*self.v[key] - self.lr*grads[key]\n",
    "            params[key] += self.v[key]"
   ]
  },
  {
   "cell_type": "markdown",
   "metadata": {
    "deletable": true,
    "editable": true
   },
   "source": [
    "### AdaGrad\n",
    "Adaptive Gradient : 처음에는 크게 학습하다가 조금씩 작게 학습 = 학습률을 점차 줄여가는 방법  \n",
    "매개변수 전체의 학습률 $\\eta$를 감소시키는게 아니라 **각각의** 매개변수에 맞춘 학습률을 적용시킴  \n",
    "\n",
    "$h \\leftarrow h + \\frac{\\partial L}{\\partial W} ⊙ \\frac{\\partial L}{\\partial W}$  \n",
    "$W \\leftarrow W + \\eta \\frac{1}{\\sqrt{h}}\\frac{\\partial L}{\\partial W}$\n",
    "> $h$는 기존 기울기 값을 계속 더해줌  \n",
    "학습률에 $\\frac{1}{\\sqrt{h}}$을 곱해 학습률 조정 :**많이 움직인(크게 갱신된) 원소는 학습률이 낮아진다**, 즉 갱신 값의 움직임이 억제한다.  \n",
    "⊙는 원소별 곱셈 `np.dot`이 아니라 단순한 스칼라 곱 `*`\n"
   ]
  },
  {
   "cell_type": "code",
   "execution_count": 3,
   "metadata": {
    "collapsed": true,
    "deletable": true,
    "editable": true
   },
   "outputs": [],
   "source": [
    "class AdaGrad:\n",
    "    def __init__(self, lr=0.01):\n",
    "        self.lr = lr\n",
    "        self.h = None\n",
    "        \n",
    "    def update(self, params, grads):\n",
    "        if self.h is None:\n",
    "            self.h = {}\n",
    "            for key, value in params.items():\n",
    "                self.h[key] = np.zeros_like(value)\n",
    "                \n",
    "        for key in params.keys():\n",
    "            self.h[key] += grads[key] * grads[key]\n",
    "            params[key] -= self.lr * grads[key] / np.sqrt(self.h[key] + 1e-7)            "
   ]
  },
  {
   "cell_type": "markdown",
   "metadata": {
    "deletable": true,
    "editable": true
   },
   "source": [
    "### Adam\n",
    "Adaptive momentum = AdaGrad + Momentum  \n",
    "책에서는 http://arxiv.org/abs/1412.6980v8 의 논문을 참고하라하고 자세한 설명은 되어있지 않음  \n",
    "$\\beta_1$은 일차 모멘텀용 계수, 0.9가 좋음  \n",
    "$\\beta_2$는 이차 모멘텀용 계수, 0.999가 좋음"
   ]
  },
  {
   "cell_type": "code",
   "execution_count": 4,
   "metadata": {
    "collapsed": true,
    "deletable": true,
    "editable": true
   },
   "outputs": [],
   "source": [
    "class Adam:\n",
    "\n",
    "    \"\"\"Adam (http://arxiv.org/abs/1412.6980v8)\"\"\"\n",
    "\n",
    "    def __init__(self, lr=0.001, beta1=0.9, beta2=0.999):\n",
    "        self.lr = lr\n",
    "        self.beta1 = beta1\n",
    "        self.beta2 = beta2\n",
    "        self.iter = 0\n",
    "        self.m = None\n",
    "        self.v = None\n",
    "        \n",
    "    def update(self, params, grads):\n",
    "        if self.m is None:\n",
    "            self.m, self.v = {}, {}\n",
    "            for key, val in params.items():\n",
    "                self.m[key] = np.zeros_like(val)\n",
    "                self.v[key] = np.zeros_like(val)\n",
    "        \n",
    "        self.iter += 1\n",
    "        lr_t  = self.lr * np.sqrt(1.0 - self.beta2**self.iter) / (1.0 - self.beta1**self.iter)         \n",
    "        \n",
    "        for key in params.keys():\n",
    "            #self.m[key] = self.beta1*self.m[key] + (1-self.beta1)*grads[key]\n",
    "            #self.v[key] = self.beta2*self.v[key] + (1-self.beta2)*(grads[key]**2)\n",
    "            self.m[key] += (1 - self.beta1) * (grads[key] - self.m[key])\n",
    "            self.v[key] += (1 - self.beta2) * (grads[key]**2 - self.v[key])\n",
    "            \n",
    "            params[key] -= lr_t * self.m[key] / (np.sqrt(self.v[key]) + 1e-7)\n",
    "            \n",
    "            #unbias_m += (1 - self.beta1) * (grads[key] - self.m[key]) # correct bias\n",
    "            #unbisa_b += (1 - self.beta2) * (grads[key]*grads[key] - self.v[key]) # correct bias\n",
    "            #params[key] += self.lr * unbias_m / (np.sqrt(unbisa_b) + 1e-7)\n"
   ]
  },
  {
   "cell_type": "markdown",
   "metadata": {
    "deletable": true,
    "editable": true
   },
   "source": [
    "### 갱신 방법 직접 비교"
   ]
  },
  {
   "cell_type": "code",
   "execution_count": 5,
   "metadata": {
    "collapsed": false,
    "deletable": true,
    "editable": true,
    "scrolled": false
   },
   "outputs": [
    {
     "data": {
      "image/png": "[encoded data removed]",
      "text/plain": [
       "<matplotlib.figure.Figure at 0x25dfadbfa20>"
      ]
     },
     "metadata": {},
     "output_type": "display_data"
    }
   ],
   "source": [
    "from IPython.core.interactiveshell import InteractiveShell\n",
    "InteractiveShell.ast_node_interactivity = \"last_expr\"\n",
    "\n",
    "from collections import OrderedDict\n",
    "import matplotlib.pyplot as plt\n",
    "import numpy as np\n",
    "\n",
    "def f(x, y):\n",
    "    return x**2 / 20.0 + y**2\n",
    "\n",
    "\n",
    "def df(x, y):\n",
    "    return x / 10.0, 2.0*y\n",
    "\n",
    "def draw(idx, key, x_history, y_history):\n",
    "    xlim = 10\n",
    "    ylim = 10\n",
    "    x = np.arange(-xlim, xlim, 0.1)\n",
    "    y = np.arange(-ylim, ylim, 0.1)\n",
    "    \n",
    "    X, Y = np.meshgrid(x, y) \n",
    "    Z = f(X, Y)\n",
    "    \n",
    "    # 외곽선 단순화\n",
    "    mask = Z > 7\n",
    "    Z[mask] = 0\n",
    "    \n",
    "    # 그래프 그리기\n",
    "    ax = subplots[idx]\n",
    "    ax.plot(x_history, y_history, 'o-', color=\"red\")\n",
    "    ax.contour(X, Y, Z, linewidths=0.5, colors='k')\n",
    "    ax.set_xlim(-xlim, xlim)\n",
    "    ax.set_ylim(-ylim, ylim)\n",
    "    ax.plot(0, 0, '+')\n",
    "    ax.set_title(key, fontsize=16)\n",
    "    ax.set_xlabel(\"x\")\n",
    "    ax.set_ylabel(\"y\")\n",
    "\n",
    "init_pos = (-7.0, 2.0)\n",
    "params = {\n",
    "    \"x\": init_pos[0],\n",
    "    \"y\": init_pos[1],\n",
    "}\n",
    "\n",
    "grads = {\n",
    "    \"x\": 0,\n",
    "    \"y\": 0,\n",
    "}\n",
    "\n",
    "\n",
    "optimizers = OrderedDict()\n",
    "optimizers[\"SGD\"] = SGD(lr=0.95)\n",
    "optimizers[\"Momentum\"] = Momentum(lr=0.1, momentum=0.9)\n",
    "optimizers[\"AdaGrad\"] = AdaGrad(lr=1.5)\n",
    "optimizers[\"Adam\"] = Adam(lr=0.3)\n",
    "\n",
    "fig, subplots = plt.subplots(nrows=2, ncols=2, figsize=(12, 9))\n",
    "subplots = subplots.flatten()\n",
    "plt.tight_layout(pad=3, w_pad=3, h_pad=3)\n",
    "\n",
    "for idx, key in enumerate(optimizers):\n",
    "    optimizer = optimizers[key]\n",
    "    x_history = []\n",
    "    y_history = []\n",
    "    params['x'], params['y'] = init_pos[0], init_pos[1]\n",
    "    \n",
    "    for i in range(30):\n",
    "        x_history.append(params['x'])\n",
    "        y_history.append(params['y'])\n",
    "        \n",
    "        grads['x'], grads['y'] = df(params['x'], params['y'])\n",
    "        optimizer.update(params, grads)\n",
    "        \n",
    "    draw(idx, key, x_history, y_history)\n",
    "    \n",
    "plt.show();"
   ]
  },
  {
   "cell_type": "markdown",
   "metadata": {
    "deletable": true,
    "editable": true
   },
   "source": [
    "**SGD**와 **Adam**이 주로 쓰임"
   ]
  },
  {
   "cell_type": "markdown",
   "metadata": {
    "deletable": true,
    "editable": true
   },
   "source": [
    "### MNIST 데이터셋으로 비교\n",
    "각 층의 히든 노드가 100개이고, 히든 레이어가 5층인 뉴럴넷을 사용한다.  \n",
    "그러기 위해선 `Multil Layer Net`을 만들어야한다.  \n",
    "기존의 `Two Layer Net`보다 유연하고 조립성이 증가한 뉴럴넷  \n",
    "`Github`에 올라와 있는 `MultiLayerNet`을 참고하여 적절히 편집함"
   ]
  },
  {
   "cell_type": "code",
   "execution_count": 6,
   "metadata": {
    "collapsed": true,
    "deletable": true,
    "editable": true
   },
   "outputs": [],
   "source": [
    "import numpy as np\n",
    "np.random.seed(0)"
   ]
  },
  {
   "cell_type": "code",
   "execution_count": 7,
   "metadata": {
    "collapsed": false,
    "deletable": true,
    "editable": true
   },
   "outputs": [],
   "source": [
    "from collections import OrderedDict\n",
    "from common.layers import Relu, Sigmoid, SoftmaxWithLoss, Affine\n",
    "\n",
    "class MultiLayerNet:\n",
    "    \"\"\"완전연결 다층 신경망\n",
    "\n",
    "    Parameters\n",
    "    ----------\n",
    "    input_size : 입력 크기（MNIST의 경우엔 784）\n",
    "    hidden_size_list : 각 은닉층의 뉴런 수를 담은 리스트（e.g. [100, 100, 100]）\n",
    "    output_size : 출력 크기（MNIST의 경우엔 10）\n",
    "    activation : 활성화 함수 - 'relu', 'sigmoid' 혹은 커스텀함수\n",
    "    weight_init_std : 가중치의 표준편차 지정（e.g. 0.01)\n",
    "    \"\"\"\n",
    "    def __init__(self, input_size, hidden_size_list, output_size,\n",
    "                 activation='relu', weight_init_std=0.01):\n",
    "        self.input_size = input_size\n",
    "        self.output_size = output_size\n",
    "        self.hidden_size_list = hidden_size_list\n",
    "        self.hidden_layer_num = len(hidden_size_list)\n",
    "        self.params = {}\n",
    "\n",
    "        # 가중치 초기화\n",
    "        self.__init_weight(weight_init_std)\n",
    "\n",
    "        # 계층 생성\n",
    "        if activation in ['sigmoid', 'relu']:\n",
    "            activation_layer = {'sigmoid': Sigmoid, 'relu': Relu}\n",
    "        else:\n",
    "            # 직접 커스텀 함수로 전달한다면\n",
    "            active_func = activation\n",
    "            active_func_name = \"custom\"\n",
    "            activation_layer = {active_func_name: active_func}\n",
    "            activation = active_func_name\n",
    "    \n",
    "        # 레이어 연결\n",
    "        self.layers = OrderedDict()\n",
    "        for idx in range(1, self.hidden_layer_num+1):\n",
    "            self.layers['Affine' + str(idx)] = Affine(self.params['W' + str(idx)],\n",
    "                                                      self.params['b' + str(idx)])\n",
    "            self.layers['Activation_function' + str(idx)] = activation_layer[activation]()\n",
    "\n",
    "        idx = self.hidden_layer_num + 1\n",
    "        self.layers['Affine' + str(idx)] = Affine(self.params['W' + str(idx)],\n",
    "            self.params['b' + str(idx)])\n",
    "\n",
    "        self.last_layer = SoftmaxWithLoss()\n",
    "\n",
    "    def __init_weight(self, weight_init_std):\n",
    "        # 가중치 초기화\n",
    "        all_size_list = [self.input_size] + self.hidden_size_list + [self.output_size]\n",
    "        for idx in range(1, len(all_size_list)):\n",
    "            scale = weight_init_std\n",
    "            \n",
    "            # 뒤에서 배울 가중치 초기화\n",
    "            # 이부분이 없으면 학습이 진행되지 않음\n",
    "            if str(weight_init_std).lower() in ('relu', 'he'):\n",
    "                scale = np.sqrt(2.0 / all_size_list[idx - 1])  # ReLU를 사용할 때의 권장 초깃값\n",
    "            elif str(weight_init_std).lower() in ('sigmoid', 'xavier'):\n",
    "                scale = np.sqrt(1.0 / all_size_list[idx - 1])  # sigmoid를 사용할 때의 권장 초깃값\n",
    "            \n",
    "            self.params['W' + str(idx)] = scale * np.random.randn(all_size_list[idx-1], all_size_list[idx])\n",
    "            self.params['b' + str(idx)] = np.zeros(all_size_list[idx])\n",
    "\n",
    "    def predict(self, x):\n",
    "        for layer in self.layers.values():\n",
    "            x = layer.forward(x)\n",
    "\n",
    "        return x\n",
    "\n",
    "    def loss(self, x, t):\n",
    "        y = self.predict(x)\n",
    "        return self.last_layer.forward(y, t)\n",
    "\n",
    "    def gradient(self, x, t):\n",
    "        \"\"\"\n",
    "        Returns\n",
    "        -------\n",
    "        각 층의 기울기를 담은 딕셔너리(dictionary) 변수\n",
    "            grads['W1']、grads['W2']、... 각 층의 가중치\n",
    "            grads['b1']、grads['b2']、... 각 층의 편향\n",
    "        \"\"\"\n",
    "        # forward\n",
    "        loss = self.loss(x, t)\n",
    "\n",
    "        # backward\n",
    "        dout = 1\n",
    "        dout = self.last_layer.backward(dout)\n",
    "\n",
    "        layers = list(self.layers.values())\n",
    "        layers.reverse()\n",
    "        for layer in layers:\n",
    "            dout = layer.backward(dout)\n",
    "\n",
    "        # 결과 저장\n",
    "        grads = {}\n",
    "        for idx in range(1, self.hidden_layer_num+2):\n",
    "            grads['W' + str(idx)] = self.layers['Affine' + str(idx)].dW\n",
    "            grads['b' + str(idx)] = self.layers['Affine' + str(idx)].db\n",
    "\n",
    "        return grads\n"
   ]
  },
  {
   "cell_type": "code",
   "execution_count": 8,
   "metadata": {
    "collapsed": false,
    "deletable": true,
    "editable": true
   },
   "outputs": [
    {
     "name": "stdout",
     "output_type": "stream",
     "text": [
      "=======  iter :    0  =======\n",
      "Momentum : 2.3387228269130875\n",
      "Adam : 2.2248724420820745\n",
      "AdaGrad : 2.0817529707929197\n",
      "SGD : 2.4591603024537783\n",
      "=======  iter :  500  =======\n",
      "Momentum : 0.15762199995590445\n",
      "Adam : 0.1666662694947888\n",
      "AdaGrad : 0.1343614186706258\n",
      "SGD : 0.4879338539343815\n",
      "=======  iter : 1000  =======\n",
      "Momentum : 0.2003306630922363\n",
      "Adam : 0.17706305963411872\n",
      "AdaGrad : 0.1314720152135609\n",
      "SGD : 0.36025746390879887\n"
     ]
    }
   ],
   "source": [
    "import matplotlib.pyplot as plt\n",
    "from mnist import load\n",
    "\n",
    "dataset = load(normalize=True, one_hot_label=True)\n",
    "x_train = dataset[\"train_img\"]\n",
    "t_train = dataset[\"train_label\"]\n",
    "\n",
    "train_size = x_train.shape[0]\n",
    "batch_size = 128\n",
    "max_iter = 1001\n",
    "\n",
    "optimizers = {}\n",
    "optimizers[\"SGD\"] = SGD()\n",
    "optimizers[\"Momentum\"] = Momentum()\n",
    "optimizers[\"AdaGrad\"] = AdaGrad()\n",
    "optimizers[\"Adam\"] = Adam()\n",
    "\n",
    "networks = {}\n",
    "train_loss = {}\n",
    "for key in optimizers.keys():\n",
    "    networks[key] = MultiLayerNet(784, [50, 50, 50, 50], 10, 'relu', 'relu')\n",
    "    train_loss[key] = []\n",
    "    \n",
    "for i in range(max_iter):\n",
    "    mask = np.random.choice(train_size, batch_size)\n",
    "    x_batch = x_train[mask]\n",
    "    t_batch = t_train[mask]\n",
    "    \n",
    "    for key in optimizers.keys():\n",
    "        grads = networks[key].gradient(x_batch, t_batch)\n",
    "        optimizers[key].update(networks[key].params, grads)\n",
    "        \n",
    "        loss = networks[key].loss(x_batch, t_batch)\n",
    "        train_loss[key].append(loss)\n",
    "        \n",
    "    if i % 500 == 0:\n",
    "        print(\"=======  iter : {:4}  =======\".format(i))\n",
    "        for key in optimizers.keys():\n",
    "            loss = networks[key].loss(x_batch, t_batch)\n",
    "            print(\"{} : {}\".format(key, loss))"
   ]
  },
  {
   "cell_type": "code",
   "execution_count": 9,
   "metadata": {
    "collapsed": true,
    "deletable": true,
    "editable": true
   },
   "outputs": [],
   "source": [
    "def smooth_curve(x, beta=2):\n",
    "    \"\"\"손실 함수의 그래프를 매끄럽게 하기 위해 사용\n",
    "    \n",
    "    참고：http://glowingpython.blogspot.jp/2012/02/convolution-with-numpy.html\n",
    "    \"\"\"\n",
    "    window_len = 11\n",
    "    s = np.r_[x[window_len-1:0:-1], x, x[-1:-window_len:-1]]\n",
    "    w = np.kaiser(window_len, beta)\n",
    "    y = np.convolve(w/w.sum(), s, mode='valid')\n",
    "    return y[5:len(y)-5]"
   ]
  },
  {
   "cell_type": "code",
   "execution_count": 10,
   "metadata": {
    "collapsed": false,
    "deletable": true,
    "editable": true,
    "scrolled": true
   },
   "outputs": [
    {
     "data": {
      "image/png": "[encoded data removed]",
      "text/plain": [
       "<matplotlib.figure.Figure at 0x25dfaf30c88>"
      ]
     },
     "metadata": {},
     "output_type": "display_data"
    }
   ],
   "source": [
    "markers = {\n",
    "    \"SGD\": \"o\",\n",
    "    \"Momentum\": \"x\",\n",
    "    \"AdaGrad\": \"s\",\n",
    "    \"Adam\": \"D\",\n",
    "}\n",
    "x = np.arange(max_iter)\n",
    "for key in optimizers.keys():\n",
    "    plt.plot(x, smooth_curve(train_loss[key]), marker=markers[key], markevery=100, label=key)\n",
    "plt.xlabel(\"iterations\")\n",
    "plt.ylabel(\"loss\")\n",
    "plt.ylim(0, 1)\n",
    "plt.xlim(-10, 1010)\n",
    "plt.legend()\n",
    "plt.show();"
   ]
  },
  {
   "cell_type": "markdown",
   "metadata": {
    "deletable": true,
    "editable": true
   },
   "source": [
    "`AdaGrad`가 가장 빠르게 나타나나 학습률과 신경망의 구조에 따라 결과가 달라진다.  \n",
    "일반적으로 `SGD`보다는 다른 세 기법이 빠르고 정확함"
   ]
  },
  {
   "cell_type": "markdown",
   "metadata": {
    "collapsed": true,
    "deletable": true,
    "editable": true
   },
   "source": [
    "## 가중치의 초깃값\n",
    "- Xavier 초깃값\n",
    "- He 초깃값"
   ]
  },
  {
   "cell_type": "markdown",
   "metadata": {
    "collapsed": true,
    "deletable": true,
    "editable": true
   },
   "source": [
    "지금까지는 `0.01 * np.random.randn(10,100)`처럼 표준편차가 0.01인 정규분포를 사용함  \n",
    "이럴 경우 아까 `optimizer별 MNIST 학습`에서도 확인할 수 있듯이 학습이 이루어 지지 않을 수 도 있거나 느림."
   ]
  },
  {
   "cell_type": "markdown",
   "metadata": {
    "deletable": true,
    "editable": true
   },
   "source": [
    "### 히스토그램"
   ]
  },
  {
   "cell_type": "code",
   "execution_count": 11,
   "metadata": {
    "collapsed": true,
    "deletable": true,
    "editable": true
   },
   "outputs": [],
   "source": [
    "import numpy as np\n",
    "import matplotlib.pyplot as plt\n",
    "from common.functions import sigmoid, relu\n",
    "\n",
    "np.random.seed(42)\n",
    "node_num = 100\n",
    "layer_num = 7\n",
    "nodes = [node_num] * layer_num\n",
    "hidden_layer_size = len(nodes)"
   ]
  },
  {
   "cell_type": "code",
   "execution_count": 12,
   "metadata": {
    "collapsed": true,
    "deletable": true,
    "editable": true
   },
   "outputs": [],
   "source": [
    "def activate(func, std):\n",
    "    activations = {}\n",
    "    for i in range(hidden_layer_size):\n",
    "        if i == 0:\n",
    "            x = np.random.randn(1000, 100)\n",
    "        w = np.random.randn(node_num, node_num) * std\n",
    "        y = x @ w\n",
    "        z = func(y)\n",
    "        activations[i] = z\n",
    "        x = z\n",
    "    return activations"
   ]
  },
  {
   "cell_type": "code",
   "execution_count": 13,
   "metadata": {
    "collapsed": true,
    "deletable": true,
    "editable": true
   },
   "outputs": [],
   "source": [
    "def show_histogram(activations):\n",
    "    fig, ax = plt.subplots(1, len(activations), sharey=True, figsize=(9, 2))\n",
    "    ax = ax.flatten()\n",
    "    for idx, item in activations.items():\n",
    "        ax[idx].set_title(str(idx+1) + \"-layer\")\n",
    "        ax[idx].set_xlim(0, 1)\n",
    "        ax[idx].set_ylim(0, 10000)\n",
    "        # hist의 두번째 인자는 얼마나 잘게 쪼갤지에 대한 값\n",
    "        ax[idx].hist(item.flatten(), 25, range=(0, 1))\n",
    "    plt.show();"
   ]
  },
  {
   "cell_type": "markdown",
   "metadata": {
    "deletable": true,
    "editable": true
   },
   "source": [
    "### 표준편차가 1일 때"
   ]
  },
  {
   "cell_type": "code",
   "execution_count": 14,
   "metadata": {
    "collapsed": false,
    "deletable": true,
    "editable": true,
    "scrolled": true
   },
   "outputs": [
    {
     "data": {
      "image/png": "[encoded data removed]",
      "text/plain": [
       "<matplotlib.figure.Figure at 0x25dfb2a5908>"
      ]
     },
     "metadata": {},
     "output_type": "display_data"
    }
   ],
   "source": [
    "show_histogram(activate(sigmoid, 1))"
   ]
  },
  {
   "cell_type": "markdown",
   "metadata": {
    "deletable": true,
    "editable": true
   },
   "source": [
    "### 표준편차가 0.01일 때"
   ]
  },
  {
   "cell_type": "code",
   "execution_count": 15,
   "metadata": {
    "collapsed": false,
    "deletable": true,
    "editable": true
   },
   "outputs": [
    {
     "data": {
      "image/png": "[encoded data removed]",
      "text/plain": [
       "<matplotlib.figure.Figure at 0x25d81802d30>"
      ]
     },
     "metadata": {},
     "output_type": "display_data"
    }
   ],
   "source": [
    "show_histogram(activate(sigmoid, 0.01))"
   ]
  },
  {
   "cell_type": "markdown",
   "metadata": {
    "deletable": true,
    "editable": true
   },
   "source": [
    "### Xavier (사비에르) 초깃값"
   ]
  },
  {
   "cell_type": "markdown",
   "metadata": {
    "deletable": true,
    "editable": true
   },
   "source": [
    "#### Xavier + Sigmoid"
   ]
  },
  {
   "cell_type": "code",
   "execution_count": 16,
   "metadata": {
    "collapsed": false,
    "deletable": true,
    "editable": true
   },
   "outputs": [
    {
     "data": {
      "image/png": "[encoded data removed]",
      "text/plain": [
       "<matplotlib.figure.Figure at 0x25d81c18d68>"
      ]
     },
     "metadata": {},
     "output_type": "display_data"
    }
   ],
   "source": [
    "show_histogram(activate(sigmoid, np.sqrt(1 / node_num)))"
   ]
  },
  {
   "cell_type": "markdown",
   "metadata": {
    "deletable": true,
    "editable": true
   },
   "source": [
    "#### Xavier + tanh"
   ]
  },
  {
   "cell_type": "code",
   "execution_count": 17,
   "metadata": {
    "collapsed": false,
    "deletable": true,
    "editable": true
   },
   "outputs": [
    {
     "data": {
      "image/png": "[encoded data removed]",
      "text/plain": [
       "<matplotlib.figure.Figure at 0x25d84bd30b8>"
      ]
     },
     "metadata": {},
     "output_type": "display_data"
    }
   ],
   "source": [
    "show_histogram(activate(np.tanh, np.sqrt(1 / node_num)))"
   ]
  },
  {
   "cell_type": "markdown",
   "metadata": {
    "deletable": true,
    "editable": true
   },
   "source": [
    "### He (히) 초깃값\n",
    "활성화 함수가 `Relu`일 때 특화된 초깃값"
   ]
  },
  {
   "cell_type": "markdown",
   "metadata": {
    "deletable": true,
    "editable": true
   },
   "source": [
    "#### Relu + He"
   ]
  },
  {
   "cell_type": "code",
   "execution_count": 18,
   "metadata": {
    "collapsed": false,
    "deletable": true,
    "editable": true,
    "scrolled": true
   },
   "outputs": [
    {
     "data": {
      "image/png": "[encoded data removed]",
      "text/plain": [
       "<matplotlib.figure.Figure at 0x25d817ff240>"
      ]
     },
     "metadata": {},
     "output_type": "display_data"
    }
   ],
   "source": [
    "show_histogram(activate(relu, np.sqrt(2 / node_num)))"
   ]
  },
  {
   "cell_type": "markdown",
   "metadata": {
    "deletable": true,
    "editable": true
   },
   "source": [
    "#### Relu + 0.01"
   ]
  },
  {
   "cell_type": "code",
   "execution_count": 19,
   "metadata": {
    "collapsed": false,
    "deletable": true,
    "editable": true,
    "scrolled": true
   },
   "outputs": [
    {
     "data": {
      "image/png": "[encoded data removed]",
      "text/plain": [
       "<matplotlib.figure.Figure at 0x25d81b08828>"
      ]
     },
     "metadata": {},
     "output_type": "display_data"
    }
   ],
   "source": [
    "show_histogram(activate(relu, 0.01))"
   ]
  },
  {
   "cell_type": "markdown",
   "metadata": {
    "deletable": true,
    "editable": true
   },
   "source": [
    "#### Relu + Xavier"
   ]
  },
  {
   "cell_type": "code",
   "execution_count": 20,
   "metadata": {
    "collapsed": false,
    "deletable": true,
    "editable": true,
    "scrolled": true
   },
   "outputs": [
    {
     "data": {
      "image/png": "[encoded data removed]",
      "text/plain": [
       "<matplotlib.figure.Figure at 0x25d81ac5be0>"
      ]
     },
     "metadata": {},
     "output_type": "display_data"
    }
   ],
   "source": [
    "show_histogram(activate(relu, np.sqrt(1 / node_num)))"
   ]
  },
  {
   "cell_type": "markdown",
   "metadata": {
    "deletable": true,
    "editable": true
   },
   "source": [
    "### MNIST 데이터셋으로 비교"
   ]
  },
  {
   "cell_type": "code",
   "execution_count": 21,
   "metadata": {
    "collapsed": false,
    "deletable": true,
    "editable": true,
    "scrolled": true
   },
   "outputs": [
    {
     "name": "stdout",
     "output_type": "stream",
     "text": [
      "=======  iter :    0  =======\n",
      "std=0.01 : 2.302536112845559\n",
      "He : 2.3507731318187437\n",
      "Xavier : 2.2976329059729537\n",
      "=======  iter :  500  =======\n",
      "std=0.01 : 2.3008722356930367\n",
      "He : 0.4150617473509187\n",
      "Xavier : 1.0271672653459705\n",
      "=======  iter : 1000  =======\n",
      "std=0.01 : 2.301512243406683\n",
      "He : 0.16885828232436811\n",
      "Xavier : 0.29307811885521695\n"
     ]
    }
   ],
   "source": [
    "import numpy as np\n",
    "import matplotlib.pyplot as plt\n",
    "from mnist import load\n",
    "from common.multi_layer_nn import MultiLayerNet\n",
    "from common.optimizer import SGD\n",
    "\n",
    "dataset = load(normalize=True)\n",
    "x_train = dataset[\"train_img\"]\n",
    "t_train = dataset[\"train_label\"]\n",
    "\n",
    "train_size = x_train.shape[0]\n",
    "batch_size = 128\n",
    "max_iter = 1001\n",
    "\n",
    "weight_init_types = {'std=0.01': 0.01, 'Xavier': 'sigmoid', 'He': 'relu'}\n",
    "optimizer = SGD()\n",
    "\n",
    "networks = {}\n",
    "train_loss = {}\n",
    "for key, weight_type in weight_init_types.items():\n",
    "    networks[key] = MultiLayerNet(input_size=784, hidden_size_list=[100, 100, 100, 100],\n",
    "                                  output_size=10, weight_init_std=weight_type)\n",
    "    train_loss[key] = []\n",
    "\n",
    "\n",
    "for i in range(max_iter):\n",
    "    mask = np.random.choice(train_size, batch_size)\n",
    "    x_batch = x_train[mask]\n",
    "    t_batch = t_train[mask]\n",
    "    \n",
    "    for key in weight_init_types.keys():\n",
    "        grads = networks[key].gradient(x_batch, t_batch)\n",
    "        optimizer.update(networks[key].params, grads)\n",
    "    \n",
    "        loss = networks[key].loss(x_batch, t_batch)\n",
    "        train_loss[key].append(loss)\n",
    "    \n",
    "    if i % 500 == 0:\n",
    "        print(\"=======  iter : {:4}  =======\".format(i))\n",
    "        for key in weight_init_types.keys():\n",
    "            loss = networks[key].loss(x_batch, t_batch)\n",
    "            print(\"{} : {}\".format(key, loss))"
   ]
  },
  {
   "cell_type": "code",
   "execution_count": 22,
   "metadata": {
    "collapsed": false,
    "deletable": true,
    "editable": true
   },
   "outputs": [
    {
     "data": {
      "image/png": "[encoded data removed]",
      "text/plain": [
       "<matplotlib.figure.Figure at 0x25d816aa2e8>"
      ]
     },
     "metadata": {},
     "output_type": "display_data"
    }
   ],
   "source": [
    "markers = {\n",
    "    'std=0.01': 'o',\n",
    "    'Xavier': 's',\n",
    "    'He': 'D'\n",
    "}\n",
    "x = np.arange(max_iter)\n",
    "for key in weight_init_types.keys():\n",
    "    plt.plot(x, smooth_curve(train_loss[key]), marker=markers[key], markevery=100, label=key)\n",
    "plt.xlabel(\"iterations\")\n",
    "plt.ylabel(\"loss\")\n",
    "plt.ylim(0, 2.5)\n",
    "plt.legend()\n",
    "plt.show();"
   ]
  },
  {
   "cell_type": "markdown",
   "metadata": {
    "collapsed": true,
    "deletable": true,
    "editable": true
   },
   "source": [
    "## 배치 정규화\n",
    "[참고 블로그 1](https://shuuki4.wordpress.com/2016/01/13/batch-normalization-%EC%84%A4%EB%AA%85-%EB%B0%8F-%EA%B5%AC%ED%98%84/)  \n",
    "[참고 블로그 2](http://funmv2013.blogspot.kr/2016/09/batch-normalization.html)  \n",
    "\n",
    "### 기존에는\n",
    "딥러닝 알고리즘은 층이 깊어질수록 표현 능력과 추상화 레벨이 높아진다.  \n",
    "그러나 층이 깊어질 때 출력단의 Loss값의 gradient가 내부로 도달하지 않고 소멸해버리는 현상으로 학습에 한계가 있었다. -> `Gradient Vanishing`  \n",
    "이러한 문제점을 해결하기 위해, `ReLU 활성함수`, `Dropout`, `학습 샘플 초기화 전략(Careful Initialization)`, `Learning rate 조절` 등의 여러가지 방법이 개발되어 왔다.  \n",
    "> `Dropout`기법은 책에서 이 다음 단락에 나옴\n",
    "\n",
    "`Batch Normalization`은 기본적으로 `Gradient Vanishing` / `Gradient Exploding` 이 일어나지 않도록 하는 아이디어 중의 하나이다.  \n",
    "지금까지는 위에서 언급한 기법들로 해결하였지만, 이러한 간접적인 방법보다는 training 하는 과정 자체를 전체적으로 안정화하여 학습 속도를 가속시킬 수 있는 `근본적인 방법`을 찾고싶어 했다.\n",
    "\n",
    "### Whitening\n",
    "Network의 각 층이나 Activation 마다 input의 distribution이 달라지는 현상을 막기 위해서 간단하게 각 층의 input의 distribution을 평균 0, 표준편차 1인 input으로 normalize 시키는 방법이 있다. -> 이건 `Whitening`라고 함  \n",
    "\n",
    "### Whitening -> 배치 정규화\n",
    "그런데 단순히 mean과 variance를 0, 1로 고정시키는 것은 오히려 Activation function의 nonlinearity를 없앨 수 있다.  \n",
    "이 점들을 보완하기 위해, normalize된 값들에 `scale factor (gamma)`와 `shift factor (beta)`를 더해주고 이 변수들을 back-prop 과정에서 같이 train 시켜준다.\n",
    "\n",
    "> 지금까지의 설명은 ‘일반적인 Network 일 때’ 에 한해서 통용된다.  \n",
    "만약 Batch Normalization을 CNN에 적용시키고 싶을 경우 지금까지 설명한 방법과는 다소 다른 방법을 이용해야만 한다. -> 이건 나중에 7장에 들어가게 되면 신경쓰자\n",
    "\n",
    "### 배치 정규화의 장점\n",
    "- `Batch Normalization`을 사용할 경우 propagation 할 때 parameter의 scale에 영향을 받지 않게 된다.  \n",
    "    따라서, learning rate를 크게 잡을 수 있게 되고 이는 `빠른 학습을 가능`케 한다.\n",
    "- 기존에 사용하던 `weight regularization term` 등을 제외할 수 있게 하며, 나아가 `Dropout`을 제외할 수 있게 한다. -> `Dropout`의 효과와 `Batch Normalization`의 효과가 같기 때문)\n",
    "    Dropout의 경우 효과는 좋지만 학습 속도가 다소 느려진다는 단점이 있는데, 이를 제거함으로서 학습 속도도 향상된다."
   ]
  },
  {
   "cell_type": "markdown",
   "metadata": {
    "deletable": true,
    "editable": true
   },
   "source": [
    "![](img/ch6_배치정규화식.png)"
   ]
  },
  {
   "cell_type": "code",
   "execution_count": 23,
   "metadata": {
    "collapsed": true,
    "deletable": true,
    "editable": true
   },
   "outputs": [],
   "source": [
    "class BatchNormalization:\n",
    "    \"\"\"\n",
    "    http://arxiv.org/abs/1502.03167\n",
    "    \"\"\"\n",
    "    def __init__(self, gamma, beta, momentum=0.9, running_mean=None, running_var=None):\n",
    "        self.gamma = gamma\n",
    "        self.beta = beta\n",
    "        self.momentum = momentum\n",
    "        self.input_shape = None # 합성곱 계층은 4차원, 완전연결 계층은 2차원  \n",
    "\n",
    "        # 시험할 때 사용할 평균과 분산\n",
    "        self.running_mean = running_mean\n",
    "        self.running_var = running_var  \n",
    "        \n",
    "        # backward 시에 사용할 중간 데이터\n",
    "        self.batch_size = None\n",
    "        self.xc = None\n",
    "        self.std = None\n",
    "        self.dgamma = None\n",
    "        self.dbeta = None\n",
    "\n",
    "    def forward(self, x, train_flg=True):\n",
    "        self.input_shape = x.shape\n",
    "        if x.ndim != 2:\n",
    "            N, C, H, W = x.shape\n",
    "            x = x.reshape(N, -1)\n",
    "\n",
    "        out = self.__forward(x, train_flg)\n",
    "        \n",
    "        return out.reshape(*self.input_shape)\n",
    "            \n",
    "    def __forward(self, x, train_flg):\n",
    "        if self.running_mean is None:\n",
    "            N, D = x.shape\n",
    "            self.running_mean = np.zeros(D)\n",
    "            self.running_var = np.zeros(D)\n",
    "                        \n",
    "        if train_flg:\n",
    "            mu = x.mean(axis=0)\n",
    "            xc = x - mu\n",
    "            var = np.mean(xc**2, axis=0)\n",
    "            std = np.sqrt(var + 10e-7)\n",
    "            xn = xc / std\n",
    "            \n",
    "            self.batch_size = x.shape[0]\n",
    "            self.xc = xc\n",
    "            self.xn = xn\n",
    "            self.std = std\n",
    "            self.running_mean = self.momentum * self.running_mean + (1-self.momentum) * mu\n",
    "            self.running_var = self.momentum * self.running_var + (1-self.momentum) * var            \n",
    "        else:\n",
    "            xc = x - self.running_mean\n",
    "            xn = xc / ((np.sqrt(self.running_var + 10e-7)))\n",
    "            \n",
    "        out = self.gamma * xn + self.beta \n",
    "        return out\n",
    "\n",
    "    def backward(self, dout):\n",
    "        if dout.ndim != 2:\n",
    "            N, C, H, W = dout.shape\n",
    "            dout = dout.reshape(N, -1)\n",
    "\n",
    "        dx = self.__backward(dout)\n",
    "\n",
    "        dx = dx.reshape(*self.input_shape)\n",
    "        return dx\n",
    "\n",
    "    def __backward(self, dout):\n",
    "        dbeta = dout.sum(axis=0)\n",
    "        dgamma = np.sum(self.xn * dout, axis=0)\n",
    "        dxn = self.gamma * dout\n",
    "        dxc = dxn / self.std\n",
    "        dstd = -np.sum((dxn * self.xc) / (self.std * self.std), axis=0)\n",
    "        dvar = 0.5 * dstd / self.std\n",
    "        dxc += (2.0 / self.batch_size) * self.xc * dvar\n",
    "        dmu = np.sum(dxc, axis=0)\n",
    "        dx = dxc - dmu / self.batch_size\n",
    "        \n",
    "        self.dgamma = dgamma\n",
    "        self.dbeta = dbeta\n",
    "        \n",
    "        return dx"
   ]
  },
  {
   "cell_type": "code",
   "execution_count": 24,
   "metadata": {
    "collapsed": true,
    "deletable": true,
    "editable": true
   },
   "outputs": [],
   "source": [
    "class MultiLayerNetExtend:\n",
    "    def __init__(self, input_size, hidden_size_list, output_size,\n",
    "                 activation='relu', weight_init_std='relu', weight_decay_lambda=0, \n",
    "                 use_dropout = False, dropout_ration = 0.5, use_batchnorm=False):\n",
    "        self.input_size = input_size\n",
    "        self.output_size = output_size\n",
    "        self.hidden_size_list = hidden_size_list\n",
    "        self.hidden_layer_num = len(hidden_size_list)\n",
    "        self.use_dropout = use_dropout\n",
    "        self.weight_decay_lambda = weight_decay_lambda\n",
    "        self.use_batchnorm = use_batchnorm\n",
    "        self.params = {}\n",
    "\n",
    "        # 가중치 초기화\n",
    "        self.__init_weight(weight_init_std)\n",
    "\n",
    "        # 계층 생성\n",
    "        activation_layer = {'sigmoid': Sigmoid, 'relu': Relu}\n",
    "        self.layers = OrderedDict()\n",
    "        for idx in range(1, self.hidden_layer_num+1):\n",
    "            self.layers['Affine' + str(idx)] = Affine(self.params['W' + str(idx)],\n",
    "                                                      self.params['b' + str(idx)])\n",
    "            if self.use_batchnorm:\n",
    "                self.params['gamma' + str(idx)] = np.ones(hidden_size_list[idx-1])\n",
    "                self.params['beta' + str(idx)] = np.zeros(hidden_size_list[idx-1])\n",
    "                self.layers['BatchNorm' + str(idx)] = BatchNormalization(self.params['gamma' + str(idx)], self.params['beta' + str(idx)])\n",
    "                \n",
    "            self.layers['Activation_function' + str(idx)] = activation_layer[activation]()\n",
    "            \n",
    "            if self.use_dropout:\n",
    "                self.layers['Dropout' + str(idx)] = Dropout(dropout_ration)\n",
    "\n",
    "        idx = self.hidden_layer_num + 1\n",
    "        self.layers['Affine' + str(idx)] = Affine(self.params['W' + str(idx)], self.params['b' + str(idx)])\n",
    "\n",
    "        self.last_layer = SoftmaxWithLoss()\n",
    "\n",
    "    def __init_weight(self, weight_init_std):\n",
    "        all_size_list = [self.input_size] + self.hidden_size_list + [self.output_size]\n",
    "        for idx in range(1, len(all_size_list)):\n",
    "            scale = weight_init_std\n",
    "            if str(weight_init_std).lower() in ('relu', 'he'):\n",
    "                scale = np.sqrt(2.0 / all_size_list[idx - 1])  # ReLUを使う場合に推奨される初期値\n",
    "            elif str(weight_init_std).lower() in ('sigmoid', 'xavier'):\n",
    "                scale = np.sqrt(1.0 / all_size_list[idx - 1])  # sigmoidを使う場合に推奨される初期値\n",
    "            self.params['W' + str(idx)] = scale * np.random.randn(all_size_list[idx-1], all_size_list[idx])\n",
    "            self.params['b' + str(idx)] = np.zeros(all_size_list[idx])\n",
    "\n",
    "    def predict(self, x, train_flg=False):\n",
    "        for key, layer in self.layers.items():\n",
    "            if \"Dropout\" in key or \"BatchNorm\" in key:\n",
    "                x = layer.forward(x, train_flg)\n",
    "            else:\n",
    "                x = layer.forward(x)\n",
    "\n",
    "        return x\n",
    "\n",
    "    def loss(self, x, t, train_flg=False):\n",
    "        y = self.predict(x, train_flg)\n",
    "\n",
    "        weight_decay = 0\n",
    "        for idx in range(1, self.hidden_layer_num + 2):\n",
    "            W = self.params['W' + str(idx)]\n",
    "            weight_decay += 0.5 * self.weight_decay_lambda * np.sum(W**2)\n",
    "\n",
    "        return self.last_layer.forward(y, t) + weight_decay\n",
    "\n",
    "    def accuracy(self, X, T):\n",
    "        Y = self.predict(X, train_flg=False)\n",
    "        Y = np.argmax(Y, axis=1)\n",
    "        if T.ndim != 1 : T = np.argmax(T, axis=1)\n",
    "\n",
    "        accuracy = np.sum(Y == T) / float(X.shape[0])\n",
    "        return accuracy\n",
    "        \n",
    "    def gradient(self, x, t):\n",
    "        # forward\n",
    "        self.loss(x, t, train_flg=True)\n",
    "\n",
    "        # backward\n",
    "        dout = 1\n",
    "        dout = self.last_layer.backward(dout)\n",
    "\n",
    "        layers = list(self.layers.values())\n",
    "        layers.reverse()\n",
    "        for layer in layers:\n",
    "            dout = layer.backward(dout)\n",
    "\n",
    "        # 결과 저장\n",
    "        grads = {}\n",
    "        for idx in range(1, self.hidden_layer_num+2):\n",
    "            grads['W' + str(idx)] = self.layers['Affine' + str(idx)].dW + self.weight_decay_lambda * self.params['W' + str(idx)]\n",
    "            grads['b' + str(idx)] = self.layers['Affine' + str(idx)].db\n",
    "\n",
    "            if self.use_batchnorm and idx != self.hidden_layer_num+1:\n",
    "                grads['gamma' + str(idx)] = self.layers['BatchNorm' + str(idx)].dgamma\n",
    "                grads['beta' + str(idx)] = self.layers['BatchNorm' + str(idx)].dbeta\n",
    "\n",
    "        return grads"
   ]
  },
  {
   "cell_type": "code",
   "execution_count": null,
   "metadata": {
    "collapsed": false,
    "deletable": true,
    "editable": true,
    "scrolled": false
   },
   "outputs": [],
   "source": [
    "import numpy as np\n",
    "import matplotlib.pyplot as plt\n",
    "from mnist import load\n",
    "\n",
    "dataset = load(normalize=True)\n",
    "x_train = dataset[\"train_img\"][:1000]\n",
    "t_train = dataset[\"train_label\"][:1000]\n",
    "x_test = dataset[\"test_img\"]\n",
    "t_test = dataset[\"test_label\"]\n",
    "\n",
    "max_epochs = 20\n",
    "train_size = x_train.shape[0]\n",
    "batch_size = 100\n",
    "learning_rate = 0.03\n",
    "\n",
    "\n",
    "def __train(weight_init_std):\n",
    "    bn_network = MultiLayerNetExtend(input_size=784, hidden_size_list=[100, 100, 100, 100, 100], output_size=10, \n",
    "                                    weight_init_std=weight_init_std, use_batchnorm=True)\n",
    "    network = MultiLayerNetExtend(input_size=784, hidden_size_list=[100, 100, 100, 100, 100], output_size=10,\n",
    "                                weight_init_std=weight_init_std)\n",
    "    optimizer = SGD(lr=learning_rate)\n",
    "    \n",
    "    train_acc_list = []\n",
    "    bn_train_acc_list = []\n",
    "    \n",
    "    iter_per_epoch = max(train_size / batch_size, 1)\n",
    "    epoch_cnt = 0\n",
    "    \n",
    "    for i in range(1000000000):\n",
    "        batch_mask = np.random.choice(train_size, batch_size)\n",
    "        x_batch = x_train[batch_mask]\n",
    "        t_batch = t_train[batch_mask]\n",
    "    \n",
    "        for _network in (bn_network, network):\n",
    "            grads = _network.gradient(x_batch, t_batch)\n",
    "            optimizer.update(_network.params, grads)\n",
    "    \n",
    "        if i % iter_per_epoch == 0:\n",
    "            train_acc = network.accuracy(x_train, t_train)\n",
    "            bn_train_acc = bn_network.accuracy(x_train, t_train)\n",
    "            train_acc_list.append(train_acc)\n",
    "            bn_train_acc_list.append(bn_train_acc)\n",
    "    \n",
    "            print(\"epoch:\" + str(epoch_cnt) + \" | \" + str(train_acc) + \" - \" + str(bn_train_acc))\n",
    "    \n",
    "            epoch_cnt += 1\n",
    "            if epoch_cnt >= max_epochs:\n",
    "                break\n",
    "                \n",
    "    return train_acc_list, bn_train_acc_list\n",
    "\n",
    "\n",
    "# 그래프 그리기==========\n",
    "weight_scale_list = np.logspace(0, -4, num=9)\n",
    "x = np.arange(max_epochs)\n",
    "\n",
    "for i, w in enumerate(weight_scale_list):\n",
    "    print( \"============== \" + str(i+1) + \"/9\" + \" ==============\")\n",
    "    train_acc_list, bn_train_acc_list = __train(w)\n",
    "    \n",
    "    plt.subplot(3,3,i+1)\n",
    "    plt.tight_layout(3, 3, 3)\n",
    "    plt.title(\"W:\" + str(w))\n",
    "    if i == 8:\n",
    "        plt.plot(x, bn_train_acc_list, label='Batch Normalization', markevery=2)\n",
    "        plt.plot(x, train_acc_list, linestyle = \"--\", label='Normal(without BatchNorm)', markevery=2)\n",
    "    else:\n",
    "        plt.plot(x, bn_train_acc_list, markevery=2)\n",
    "        plt.plot(x, train_acc_list, linestyle=\"--\", markevery=2)\n",
    "\n",
    "    plt.ylim(0, 1.0)\n",
    "    if i % 4:\n",
    "        plt.yticks([])\n",
    "    else:\n",
    "        plt.ylabel(\"accuracy\")\n",
    "    if i < 12:\n",
    "        plt.xticks([])\n",
    "    else:\n",
    "        plt.xlabel(\"epochs\")\n",
    "    plt.legend(loc='lower right')\n",
    "    \n",
    "plt.show();\n"
   ]
  },
  {
   "cell_type": "code",
   "execution_count": 193,
   "metadata": {
    "collapsed": false
   },
   "outputs": [],
   "source": [
    "from collections import OrderedDict\n",
    "from common.layers import *\n",
    "\n",
    "def cross_entropy_error(y, t):\n",
    "    if y.ndim == 1:\n",
    "        t = t.reshape(1, t.size)\n",
    "        y = y.reshape(1, y.size)\n",
    "\n",
    "    # 훈련 데이터가 원-핫 벡터라면 정답 레이블의 인덱스로 반환\n",
    "    if t.size == y.size:\n",
    "        t = t.argmax(axis=1)\n",
    "    batch_size = y.shape[0]\n",
    "    return -np.sum(np.log(y[np.arange(batch_size), t] + 1e-7)) / batch_size\n",
    "\n",
    "class SoftmaxWithLoss:\n",
    "    def __init__(self):\n",
    "        self.loss = None\n",
    "        self.y = None\n",
    "        self.t = None\n",
    "\n",
    "    def forward(self, x, t):\n",
    "        self.t = t\n",
    "        self.y = softmax(x)\n",
    "        self.loss = cross_entropy_error(self.y, self.t)\n",
    "        print(\"> loss :\", self.loss)\n",
    "        print(\"================\")\n",
    "        return self.loss\n",
    "\n",
    "    def backward(self, dout=1):\n",
    "        if self.t.ndim == 1:\n",
    "            temp = np.zeros_like(self.y)\n",
    "            temp[np.arange(temp.shape[0]), self.t] = 1\n",
    "            self.t = temp\n",
    "        batch_size = self.t.shape[0]\n",
    "        dx = (self.y - self.t) / batch_size\n",
    "        return dx\n",
    "from pprint import pprint\n",
    "\n",
    "class Relu:\n",
    "    cnt = 0\n",
    "\n",
    "    def __init__(self):\n",
    "        self.mask = None\n",
    "\n",
    "    def forward(self, x):\n",
    "        Relu.cnt += 1\n",
    "        self.mask = (x <= 0)\n",
    "        flag1 = np.isnan(x).any()\n",
    "        flag2 = np.isnan(self.mask).any()\n",
    "        flag3 = np.isinf(x).any()\n",
    "        print(\"{} : {}\".format(Relu.cnt, x.sum()))\n",
    "        out = x.copy()\n",
    "        out[self.mask] = 0\n",
    "        return out\n",
    "\n",
    "    def backward(self, dout):\n",
    "        dout[self.mask] = 0\n",
    "        dx = dout\n",
    "        return dx\n",
    "\n",
    "class MultiLayerNetExtend:\n",
    "    def __init__(self, input_size, hidden_size_list, output_size,\n",
    "                 activation='relu', weight_init_std='relu', weight_decay_lambda=0, \n",
    "                 use_dropout = False, dropout_ration = 0.5, use_batchnorm=False):\n",
    "        self.input_size = input_size\n",
    "        self.output_size = output_size\n",
    "        self.hidden_size_list = hidden_size_list\n",
    "        self.hidden_layer_num = len(hidden_size_list)\n",
    "        self.use_dropout = use_dropout\n",
    "        self.weight_decay_lambda = weight_decay_lambda\n",
    "        self.use_batchnorm = use_batchnorm\n",
    "        self.params = {}\n",
    "\n",
    "        # 가중치 초기화\n",
    "        self.__init_weight(weight_init_std)\n",
    "\n",
    "        # 계층 생성\n",
    "        activation_layer = {'sigmoid': Sigmoid, 'relu': Relu}\n",
    "        self.layers = OrderedDict()\n",
    "        for idx in range(1, self.hidden_layer_num+1):\n",
    "            self.layers['Affine' + str(idx)] = Affine(self.params['W' + str(idx)],\n",
    "                                                      self.params['b' + str(idx)])\n",
    "            if self.use_batchnorm:\n",
    "                self.params['gamma' + str(idx)] = np.ones(hidden_size_list[idx-1])\n",
    "                self.params['beta' + str(idx)] = np.zeros(hidden_size_list[idx-1])\n",
    "                self.layers['BatchNorm' + str(idx)] = BatchNormalization(self.params['gamma' + str(idx)], self.params['beta' + str(idx)])\n",
    "                \n",
    "            self.layers['Activation_function' + str(idx)] = activation_layer[activation]()\n",
    "            \n",
    "            if self.use_dropout:\n",
    "                self.layers['Dropout' + str(idx)] = Dropout(dropout_ration)\n",
    "\n",
    "        idx = self.hidden_layer_num + 1\n",
    "        self.layers['Affine' + str(idx)] = Affine(self.params['W' + str(idx)], self.params['b' + str(idx)])\n",
    "\n",
    "        self.last_layer = SoftmaxWithLoss()\n",
    "\n",
    "    def __init_weight(self, weight_init_std):\n",
    "        all_size_list = [self.input_size] + self.hidden_size_list + [self.output_size]\n",
    "        for idx in range(1, len(all_size_list)):\n",
    "            scale = weight_init_std\n",
    "            if str(weight_init_std).lower() in ('relu', 'he'):\n",
    "                scale = np.sqrt(2.0 / all_size_list[idx - 1])  # ReLUを使う場合に推奨される初期値\n",
    "            elif str(weight_init_std).lower() in ('sigmoid', 'xavier'):\n",
    "                scale = np.sqrt(1.0 / all_size_list[idx - 1])  # sigmoidを使う場合に推奨される初期値\n",
    "            self.params['W' + str(idx)] = scale * np.random.randn(all_size_list[idx-1], all_size_list[idx])\n",
    "            self.params['b' + str(idx)] = np.zeros(all_size_list[idx])\n",
    "\n",
    "    def predict(self, x, train_flg=False):\n",
    "        for key, layer in self.layers.items():\n",
    "            if \"Dropout\" in key or \"BatchNorm\" in key:\n",
    "                x = layer.forward(x, train_flg)\n",
    "            else:\n",
    "                x = layer.forward(x)\n",
    "\n",
    "        return x\n",
    "\n",
    "    def loss(self, x, t, train_flg=False):\n",
    "        y = self.predict(x, train_flg)\n",
    "\n",
    "        weight_decay = 0\n",
    "        for idx in range(1, self.hidden_layer_num + 2):\n",
    "            W = self.params['W' + str(idx)]\n",
    "            weight_decay += 0.5 * self.weight_decay_lambda * np.sum(W**2)\n",
    "\n",
    "        return self.last_layer.forward(y, t) + weight_decay\n",
    "\n",
    "    def accuracy(self, X, T):\n",
    "        Y = self.predict(X, train_flg=False)\n",
    "        Y = np.argmax(Y, axis=1)\n",
    "        if T.ndim != 1 : T = np.argmax(T, axis=1)\n",
    "\n",
    "        accuracy = np.sum(Y == T) / float(X.shape[0])\n",
    "        return accuracy\n",
    "        \n",
    "    def gradient(self, x, t):\n",
    "        # forward\n",
    "        print(\"W1 :\", self.params[\"W1\"].sum())\n",
    "        print(\"W2 :\", self.params[\"W2\"].sum())\n",
    "        print(\"W6 :\", self.params[\"W6\"].sum())\n",
    "        self.loss(x, t, train_flg=True)\n",
    "        # backward\n",
    "        dout = 1\n",
    "        dout = self.last_layer.backward(dout)\n",
    "\n",
    "        layers = list(self.layers.values())\n",
    "        layers.reverse()\n",
    "        for layer in layers:\n",
    "            dout = layer.backward(dout)\n",
    "        # 결과 저장\n",
    "        grads = {}\n",
    "        for idx in range(1, self.hidden_layer_num+2):\n",
    "            grads['W' + str(idx)] = self.layers['Affine' + str(idx)].dW + self.weight_decay_lambda * self.params['W' + str(idx)]\n",
    "            grads['b' + str(idx)] = self.layers['Affine' + str(idx)].db\n",
    "\n",
    "            if self.use_batchnorm and idx != self.hidden_layer_num+1:\n",
    "                grads['gamma' + str(idx)] = self.layers['BatchNorm' + str(idx)].dgamma\n",
    "                grads['beta' + str(idx)] = self.layers['BatchNorm' + str(idx)].dbeta\n",
    "        return grads\n"
   ]
  },
  {
   "cell_type": "code",
   "execution_count": 198,
   "metadata": {
    "collapsed": false
   },
   "outputs": [
    {
     "name": "stdout",
     "output_type": "stream",
     "text": [
      "W1 : 73.2557588985\n",
      "W2 : 89.8460638754\n",
      "W6 : -7.75212131375\n",
      "121 : -1296.7951639700973\n",
      "122 : -24956.265856462203\n",
      "123 : 76717.41707497711\n",
      "124 : 902826.064316845\n",
      "125 : 5870461.593022317\n",
      "> loss : 14.5062860759\n",
      "================\n",
      "W1 : -24711.2941507\n",
      "W2 : -11365.6416043\n",
      "W6 : -7.75212131375\n",
      "126 : -876548.1811475276\n",
      "127 : -131262920.96626067\n",
      "128 : -19336912392.741287\n",
      "129 : -1867204235641.3223\n",
      "130 : -779152626733139.2\n",
      "> loss : 14.5062860759\n",
      "================\n",
      "W1 : -693047864138.0\n",
      "W2 : -272223491999.0\n",
      "W6 : -7.7521212101\n",
      "131 : -24439054417903.203\n",
      "132 : -8.509183167546062e+18\n",
      "133 : -5.859780745499773e+24\n",
      "134 : -3.2364953841519177e+30\n",
      "135 : -1.8329222781957846e+36\n",
      "> loss : 15.4733718209\n",
      "================\n",
      "W1 : -2.49362134174e+32\n",
      "W2 : -1.07821580817e+33\n",
      "W6 : 7.03687441777e+13\n",
      "136 : -9.490034633039735e+33\n",
      "137 : -1.0259976343376991e+27\n",
      "138 : -1.187282890279382e+48\n",
      "139 : -7.724028096085658e+69\n",
      "140 : -9.88805934586154e+90\n",
      "> loss : 14.6674670334\n",
      "================\n",
      "W1 : -2.49362134174e+32\n",
      "W2 : -1.07821580817e+33\n",
      "W6 : 5.15425140452e+62\n",
      "141 : -9.456258723390387e+33\n",
      "142 : -3.305507961127167e+84\n",
      "143 : -4.9399635411666837e+123\n",
      "144 : -3.144295577792156e+163\n",
      "145 : -7.128546891499433e+209\n",
      "> loss : 14.3451051184\n",
      "================\n",
      "W1 : 1.13343429873e+182\n",
      "W2 : -3.80787142635e+180\n",
      "W6 : -1.14987917631e+168\n",
      "146 : 3.086418539191639e+183\n",
      "147 : -inf\n",
      "148 : -1.0500478745474626e+216\n",
      "149 : -1.5339677092932673e+291\n",
      "150 : -inf\n",
      "> loss : 2.30290492627\n",
      "================\n"
     ]
    },
    {
     "name": "stderr",
     "output_type": "stream",
     "text": [
      "c:\\python35\\lib\\site-packages\\ipykernel_launcher.py:124: RuntimeWarning: overflow encountered in square\n",
      "c:\\python35\\lib\\site-packages\\ipykernel_launcher.py:124: RuntimeWarning: invalid value encountered in double_scalars\n"
     ]
    }
   ],
   "source": [
    "np.random.seed(42)\n",
    "bn_network = MultiLayerNetExtend(input_size=784, \n",
    "                                 hidden_size_list=[100, 100, 100, 100, 100], \n",
    "                                 output_size=10, \n",
    "                                 weight_init_std=1, \n",
    "                                 use_batchnorm=False)\n",
    "optimizer = SGD()\n",
    "\n",
    "train_acc_list = []\n",
    "bn_train_acc_list = []\n",
    "\n",
    "for i in range(6):\n",
    "    batch_mask = np.random.choice(train_size, batch_size)\n",
    "    x_batch = x_train[batch_mask]\n",
    "    t_batch = t_train[batch_mask]\n",
    "    grads = bn_network.gradient(x_batch, t_batch)\n",
    "    optimizer.update(bn_network.params, grads)"
   ]
  },
  {
   "cell_type": "markdown",
   "metadata": {
    "collapsed": true,
    "deletable": true,
    "editable": true
   },
   "source": [
    "## 바른 학습을 위해\n",
    "- 오버피팅이란\n",
    "- 가중치 감소\n",
    "- 드롭아웃\n",
    "- 앙상블 학습"
   ]
  },
  {
   "cell_type": "markdown",
   "metadata": {
    "collapsed": true,
    "deletable": true,
    "editable": true
   },
   "source": [
    "### 오버피팅"
   ]
  },
  {
   "cell_type": "code",
   "execution_count": 25,
   "metadata": {
    "collapsed": false,
    "deletable": true,
    "editable": true,
    "scrolled": false
   },
   "outputs": [
    {
     "name": "stdout",
     "output_type": "stream",
     "text": [
      "epoch:0, train acc:0.243333333333, test acc:0.1999\n",
      "epoch:1, train acc:0.296666666667, test acc:0.2565\n",
      "epoch:2, train acc:0.173333333333, test acc:0.1358\n",
      "epoch:3, train acc:0.106666666667, test acc:0.0982\n",
      "epoch:4, train acc:0.293333333333, test acc:0.2684\n",
      "epoch:5, train acc:0.453333333333, test acc:0.369\n",
      "epoch:6, train acc:0.453333333333, test acc:0.3482\n",
      "epoch:7, train acc:0.516666666667, test acc:0.4308\n",
      "epoch:8, train acc:0.61, test acc:0.49\n",
      "epoch:9, train acc:0.61, test acc:0.4747\n",
      "epoch:10, train acc:0.613333333333, test acc:0.4903\n",
      "epoch:11, train acc:0.656666666667, test acc:0.5114\n",
      "epoch:12, train acc:0.713333333333, test acc:0.5697\n",
      "epoch:13, train acc:0.666666666667, test acc:0.5113\n",
      "epoch:14, train acc:0.59, test acc:0.4701\n",
      "epoch:15, train acc:0.703333333333, test acc:0.535\n",
      "epoch:16, train acc:0.833333333333, test acc:0.6549\n",
      "epoch:17, train acc:0.883333333333, test acc:0.6965\n",
      "epoch:18, train acc:0.91, test acc:0.7038\n",
      "epoch:19, train acc:0.89, test acc:0.7111\n",
      "epoch:20, train acc:0.88, test acc:0.6711\n",
      "epoch:21, train acc:0.93, test acc:0.7294\n",
      "epoch:22, train acc:0.94, test acc:0.7366\n",
      "epoch:23, train acc:0.95, test acc:0.7426\n",
      "epoch:24, train acc:0.946666666667, test acc:0.7354\n",
      "epoch:25, train acc:0.946666666667, test acc:0.7472\n",
      "epoch:26, train acc:0.953333333333, test acc:0.7412\n",
      "epoch:27, train acc:0.973333333333, test acc:0.752\n",
      "epoch:28, train acc:0.97, test acc:0.7545\n",
      "epoch:29, train acc:0.976666666667, test acc:0.762\n",
      "epoch:30, train acc:0.983333333333, test acc:0.7637\n",
      "epoch:31, train acc:0.99, test acc:0.7618\n",
      "epoch:32, train acc:0.99, test acc:0.7594\n",
      "epoch:33, train acc:0.986666666667, test acc:0.7667\n",
      "epoch:34, train acc:0.99, test acc:0.7662\n",
      "epoch:35, train acc:0.996666666667, test acc:0.7626\n",
      "epoch:36, train acc:0.996666666667, test acc:0.7705\n",
      "epoch:37, train acc:0.996666666667, test acc:0.771\n",
      "epoch:38, train acc:1.0, test acc:0.7691\n"
     ]
    }
   ],
   "source": [
    "dataset = load(normalize=True)\n",
    "x_train = dataset[\"train_img\"][:300]\n",
    "t_train = dataset[\"train_label\"][:300]\n",
    "x_test = dataset[\"test_img\"]\n",
    "t_test = dataset[\"test_label\"]\n",
    "\n",
    "network = MultiLayerNetExtend(\n",
    "    input_size=784,\n",
    "    hidden_size_list=[100, 100, 100, 100, 100, 100],\n",
    "    output_size=10\n",
    ")\n",
    "optimizer = AdaGrad()\n",
    "\n",
    "max_epochs = 201\n",
    "train_size = x_train.shape[0]\n",
    "batch_size = 300\n",
    "\n",
    "train_loss_list = []\n",
    "train_acc_list = []\n",
    "test_acc_list = []\n",
    "\n",
    "iter_per_epoch = max(train_size / batch_size, 1)\n",
    "epoch_cnt = 0\n",
    "\n",
    "for i in range(1000000000):\n",
    "    batch_mask = np.random.choice(train_size, batch_size)\n",
    "    x_batch = x_train[batch_mask]\n",
    "    t_batch = t_train[batch_mask]\n",
    "\n",
    "    grads = network.gradient(x_batch, t_batch)\n",
    "    optimizer.update(network.params, grads)\n",
    "\n",
    "    if i % iter_per_epoch == 0:\n",
    "        train_acc = network.accuracy(x_train, t_train)\n",
    "        test_acc = network.accuracy(x_test, t_test)\n",
    "        train_acc_list.append(train_acc)\n",
    "        test_acc_list.append(test_acc)\n",
    "\n",
    "        print(\"epoch:\" + str(epoch_cnt) + \", train acc:\" + str(train_acc) + \", test acc:\" + str(test_acc))\n",
    "\n",
    "        epoch_cnt += 1\n",
    "        if epoch_cnt >= 25 and train_acc == 1.0:\n",
    "            break"
   ]
  },
  {
   "cell_type": "code",
   "execution_count": 26,
   "metadata": {
    "collapsed": false,
    "deletable": true,
    "editable": true,
    "scrolled": true
   },
   "outputs": [
    {
     "data": {
      "image/png": "[encoded data removed]",
      "text/plain": [
       "<matplotlib.figure.Figure at 0x1e92790c6a0>"
      ]
     },
     "metadata": {},
     "output_type": "display_data"
    }
   ],
   "source": [
    "markers = {'train': 'o', 'test': 's'}\n",
    "x = np.arange(epoch_cnt)\n",
    "plt.plot(x, train_acc_list, marker='o', label='train', markevery=10)\n",
    "plt.plot(x, test_acc_list, marker='s', label='test', markevery=10)\n",
    "plt.xlabel(\"epochs\")\n",
    "plt.ylabel(\"accuracy\")\n",
    "plt.ylim(0.05, 1.05)\n",
    "plt.legend(loc='lower right')\n",
    "plt.show();"
   ]
  },
  {
   "cell_type": "code",
   "execution_count": null,
   "metadata": {
    "collapsed": true,
    "deletable": true,
    "editable": true
   },
   "outputs": [],
   "source": []
  },
  {
   "cell_type": "markdown",
   "metadata": {
    "collapsed": true,
    "deletable": true,
    "editable": true
   },
   "source": [
    "## 적절한 하이퍼파라미터 값 찾기\n",
    "- 검증 데이터\n",
    "- 하이퍼파라미터 최적화"
   ]
  },
  {
   "cell_type": "code",
   "execution_count": null,
   "metadata": {
    "collapsed": true,
    "deletable": true,
    "editable": true
   },
   "outputs": [],
   "source": []
  }
 ],
 "metadata": {
  "kernelspec": {
   "display_name": "Python 3",
   "language": "python",
   "name": "python3"
  },
  "language_info": {
   "codemirror_mode": {
    "name": "ipython",
    "version": 3
   },
   "file_extension": ".py",
   "mimetype": "text/x-python",
   "name": "python",
   "nbconvert_exporter": "python",
   "pygments_lexer": "ipython3",
   "version": "3.5.2"
  }
 },
 "nbformat": 4,
 "nbformat_minor": 2
}
