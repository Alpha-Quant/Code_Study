{
 "cells": [
  {
   "cell_type": "markdown",
   "metadata": {},
   "source": [
    "# 2889 Problem\n",
    "\n",
    "[원 트윗 출처](https://twitter.com/rosinality/status/869787582443466752)  \n",
    "<div style=\"float: left; clear: right;\">\n",
    "    <img alt=\"2889 problem\" src=\"https://pbs.twimg.com/media/DBIE0s0UwAACNRv.jpg\" width=\"400\">\n",
    "    <br><br>\n",
    "</div>\n",
    "\n",
    "<h2 style=\"clear: left;\">원하는 것</h2>\n",
    "<div style=\"float: left; clear: left;\">\n",
    "    ![answer](https://pbs.twimg.com/media/DBIbKsgVYAAtlkS.jpg)\n",
    "    <br>\n",
    "</div>\n",
    "\n",
    "<p style=\"clear: left;\">은닉 계층을 하나만 두고 머신 러닝으로 예측해보자!</p>"
   ]
  },
  {
   "cell_type": "markdown",
   "metadata": {},
   "source": [
    "### Input dataset"
   ]
  },
  {
   "cell_type": "code",
   "execution_count": 1,
   "metadata": {},
   "outputs": [],
   "source": [
    "import numpy as np\n",
    "np.random.seed(42)\n",
    "X = np.array([\n",
    "    [7, 1, 1, 1],\n",
    "    [8, 8, 0, 9],\n",
    "    [2, 1, 7, 2],\n",
    "    [6, 6, 6, 6],\n",
    "    [1, 1, 1, 1],\n",
    "    [2, 2, 2, 2],\n",
    "    [7, 6, 6, 2],\n",
    "    [9, 3, 1, 3],\n",
    "    [0, 0, 0, 0],\n",
    "    [5, 5, 5, 5],\n",
    "    [8, 1, 9, 3],\n",
    "    [8, 0, 9, 6],\n",
    "    [4, 3, 9, 8],\n",
    "    [9, 4, 7, 5],\n",
    "    [9, 0, 3, 8],\n",
    "    [3, 1, 4, 8],\n",
    "])\n",
    "Y = np.array([[0, 6, 0, 4, 0, 0, 2, 1, 4, 0, 3, 5, 3, 1, 4, 2]]).T"
   ]
  },
  {
   "cell_type": "markdown",
   "metadata": {},
   "source": [
    "### One hot encoding"
   ]
  },
  {
   "cell_type": "code",
   "execution_count": 47,
   "metadata": {
    "scrolled": true
   },
   "outputs": [
    {
     "name": "stdout",
     "output_type": "stream",
     "text": [
      "(16, 4, 10)\n"
     ]
    }
   ],
   "source": [
    "T = np.zeros((*X.shape, 10))\n",
    "print(T.shape)\n",
    "for idx, row in enumerate(T):\n",
    "    row[range(X.shape[-1]), X[idx]] = 1"
   ]
  },
  {
   "cell_type": "code",
   "execution_count": 48,
   "metadata": {
    "scrolled": false
   },
   "outputs": [
    {
     "ename": "NameError",
     "evalue": "name 'MultiLayerNetExtend' is not defined",
     "output_type": "error",
     "traceback": [
      "\u001b[0;31m---------------------------------------------------------------------------\u001b[0m",
      "\u001b[0;31mNameError\u001b[0m                                 Traceback (most recent call last)",
      "\u001b[0;32m<ipython-input-48-284648110f1f>\u001b[0m in \u001b[0;36m<module>\u001b[0;34m()\u001b[0m\n\u001b[0;32m----> 1\u001b[0;31m network = MultiLayerNetExtend(input_size=4,\n\u001b[0m\u001b[1;32m      2\u001b[0m                               \u001b[0mhidden_size_list\u001b[0m\u001b[0;34m=\u001b[0m\u001b[0;34m[\u001b[0m\u001b[0;36m8\u001b[0m\u001b[0;34m]\u001b[0m\u001b[0;34m,\u001b[0m\u001b[0;34m\u001b[0m\u001b[0m\n\u001b[1;32m      3\u001b[0m                               \u001b[0moutput_size\u001b[0m\u001b[0;34m=\u001b[0m\u001b[0;36m10\u001b[0m\u001b[0;34m,\u001b[0m\u001b[0;34m\u001b[0m\u001b[0m\n\u001b[1;32m      4\u001b[0m                               use_batchnorm=False)\n\u001b[1;32m      5\u001b[0m \u001b[0moptimizer\u001b[0m \u001b[0;34m=\u001b[0m \u001b[0mSGD\u001b[0m\u001b[0;34m(\u001b[0m\u001b[0;34m)\u001b[0m\u001b[0;34m\u001b[0m\u001b[0m\n",
      "\u001b[0;31mNameError\u001b[0m: name 'MultiLayerNetExtend' is not defined"
     ]
    }
   ],
   "source": [
    "network = MultiLayerNetExtend(input_size=4,\n",
    "                              hidden_size_list=[8], \n",
    "                              output_size=10, \n",
    "                              use_batchnorm=False)\n",
    "optimizer = SGD()\n",
    "\n",
    "train_acc_list = []\n",
    "bn_train_acc_list = []\n",
    "train_loss = []"
   ]
  },
  {
   "cell_type": "code",
   "execution_count": 49,
   "metadata": {
    "collapsed": true
   },
   "outputs": [],
   "source": [
    "x_train = X\n",
    "t_train = Y\n",
    "train_size = X.shape[0]\n",
    "batch_size = 4"
   ]
  },
  {
   "cell_type": "markdown",
   "metadata": {},
   "source": [
    "### Test Case"
   ]
  },
  {
   "cell_type": "code",
   "execution_count": 50,
   "metadata": {
    "collapsed": true
   },
   "outputs": [],
   "source": [
    "def refine(x):\n",
    "    '''\n",
    "    some refinement process\n",
    "    '''\n",
    "    return x"
   ]
  },
  {
   "cell_type": "code",
   "execution_count": 51,
   "metadata": {
    "collapsed": true
   },
   "outputs": [],
   "source": [
    "def test(problem, answer):\n",
    "    _problem = problem\n",
    "    _real_answer = answer\n",
    "    try:\n",
    "        _X = refine(_problem)\n",
    "        _Y = network.predict(_X)\n",
    "    except:\n",
    "        _X, _Y = 0, 0\n",
    "    print(\"====== TEST CASE =====\")\n",
    "    print(\"problem\\t\\t:\", _problem)\n",
    "    print(\"real answer\\t:\", _real_answer)\n",
    "    print(\"got answer\\t:\", _Y)\n",
    "    print(\"======================\")"
   ]
  },
  {
   "cell_type": "code",
   "execution_count": 52,
   "metadata": {
    "scrolled": true
   },
   "outputs": [
    {
     "name": "stdout",
     "output_type": "stream",
     "text": [
      "====== TEST CASE =====\n",
      "problem\t\t: 7111\n",
      "real answer\t: 0\n",
      "got answer\t: 0\n",
      "======================\n",
      "====== TEST CASE =====\n",
      "problem\t\t: 8809\n",
      "real answer\t: 6\n",
      "got answer\t: 0\n",
      "======================\n",
      "====== TEST CASE =====\n",
      "problem\t\t: 7662\n",
      "real answer\t: 2\n",
      "got answer\t: 0\n",
      "======================\n"
     ]
    }
   ],
   "source": [
    "test(\"7111\", \"0\")\n",
    "test(\"8809\", \"6\")\n",
    "test(\"7662\", \"2\")"
   ]
  }
 ],
 "metadata": {
  "kernelspec": {
   "display_name": "Python 3",
   "language": "python",
   "name": "python3"
  },
  "language_info": {
   "codemirror_mode": {
    "name": "ipython",
    "version": 3
   },
   "file_extension": ".py",
   "mimetype": "text/x-python",
   "name": "python",
   "nbconvert_exporter": "python",
   "pygments_lexer": "ipython3",
   "version": "3.6.1"
  }
 },
 "nbformat": 4,
 "nbformat_minor": 2
}
