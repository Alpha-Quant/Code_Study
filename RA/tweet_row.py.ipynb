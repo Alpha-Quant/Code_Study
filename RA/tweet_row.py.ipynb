{
 "cells": [
  {
   "cell_type": "code",
   "execution_count": null,
   "metadata": {
    "collapsed": true
   },
   "outputs": [],
   "source": [
    "import requests\n",
    "from requests_oauthlib import OAuth1\n",
    "\n",
    "auth = OAuth1('YOUR_APP_KEY', 'YOUR_APP_SECRET','USER_OAUTH_TOKEN', 'USER_OAUTH_TOKEN_SECRET')"
   ]
  },
  {
   "cell_type": "code",
   "execution_count": null,
   "metadata": {
    "collapsed": false
   },
   "outputs": [],
   "source": [
    "base_url = \"https://api.twitter.com/1.1\"\n",
    "key = json.load(open(\"auth.json\"))"
   ]
  },
  {
   "cell_type": "code",
   "execution_count": null,
   "metadata": {
    "collapsed": true
   },
   "outputs": [],
   "source": [
    "auth = OAuth1(\n",
    "    key[\"consumer_key\"],\n",
    "    key[\"consumer_secret\"],\n",
    "    key[\"access_token_key\"],\n",
    "    key[\"access_token_secret\"],\n",
    ")"
   ]
  },
  {
   "cell_type": "code",
   "execution_count": null,
   "metadata": {
    "collapsed": false
   },
   "outputs": [],
   "source": [
    "url = '%s/search/tweets.json' % base_url"
   ]
  },
  {
   "cell_type": "code",
   "execution_count": null,
   "metadata": {
    "collapsed": true
   },
   "outputs": [],
   "source": [
    "raw_query = \"q=경의선%20숲길&count=100\""
   ]
  },
  {
   "cell_type": "code",
   "execution_count": null,
   "metadata": {
    "collapsed": true
   },
   "outputs": [],
   "source": [
    "full_url = \"{url}?{raw_query}\".format(\n",
    "    url=url,\n",
    "    raw_query=raw_query\n",
    ")\n",
    "verb = \"GET\""
   ]
  },
  {
   "cell_type": "code",
   "execution_count": null,
   "metadata": {
    "collapsed": true
   },
   "outputs": [],
   "source": [
    "resp = requests.get(full_url, auth=auth)"
   ]
  },
  {
   "cell_type": "code",
   "execution_count": null,
   "metadata": {
    "collapsed": false,
    "scrolled": true
   },
   "outputs": [],
   "source": [
    "dict(resp.headers)"
   ]
  },
  {
   "cell_type": "code",
   "execution_count": null,
   "metadata": {
    "collapsed": false
   },
   "outputs": [],
   "source": [
    "r = resp.json()"
   ]
  },
  {
   "cell_type": "code",
   "execution_count": null,
   "metadata": {
    "collapsed": false
   },
   "outputs": [],
   "source": [
    "tweets = r[\"statuses\"]"
   ]
  },
  {
   "cell_type": "code",
   "execution_count": null,
   "metadata": {
    "collapsed": false,
    "scrolled": true
   },
   "outputs": [],
   "source": [
    "len(tweets)"
   ]
  },
  {
   "cell_type": "code",
   "execution_count": null,
   "metadata": {
    "collapsed": false
   },
   "outputs": [],
   "source": [
    "for tweet in tweets:\n",
    "    print(\"=============\")\n",
    "    print(tweet[\"id\"])\n",
    "    print(tweet[\"created_at\"])\n",
    "    print(tweet[\"text\"])\n",
    "    "
   ]
  },
  {
   "cell_type": "code",
   "execution_count": null,
   "metadata": {
    "collapsed": false,
    "scrolled": true
   },
   "outputs": [],
   "source": [
    "meta = r[\"search_metadata\"]\n",
    "meta"
   ]
  },
  {
   "cell_type": "code",
   "execution_count": null,
   "metadata": {
    "collapsed": false,
    "deletable": true,
    "editable": true
   },
   "outputs": [],
   "source": [
    "raw_query2 = \"q=경의선%20숲길&count=100&max_id=846048101123051520&since_id=10&lang=ko&locale=kr&result_type=recent\"\n",
    "\n",
    "full_url2 = \"{url}?{raw_query}\".format(\n",
    "    url=url,\n",
    "    raw_query=raw_query2\n",
    ")\n",
    "full_url2\n",
    "\n",
    "resp2 = requests.get(full_url2, auth=auth)\n",
    "\n",
    "r2 = resp2.json()\n",
    "\n",
    "tweets2 = r2[\"statuses\"]\n",
    "\n",
    "len(tweets2)"
   ]
  },
  {
   "cell_type": "code",
   "execution_count": null,
   "metadata": {
    "collapsed": false,
    "deletable": true,
    "editable": true
   },
   "outputs": [],
   "source": [
    "raw_query2 = \"q=경의선%20숲길&count=100&until=2017-03-20&lang=ko&locale=kr&result_type=recent\"\n",
    "\n",
    "full_url2 = \"{url}?{raw_query}\".format(\n",
    "    url=url,\n",
    "    raw_query=raw_query2\n",
    ")\n",
    "full_url2\n",
    "\n",
    "resp2 = requests.get(full_url2, auth=auth)\n",
    "\n",
    "r2 = resp2.json()\n",
    "\n",
    "tweets2 = r2[\"statuses\"]\n",
    "\n",
    "len(tweets2)"
   ]
  },
  {
   "cell_type": "code",
   "execution_count": null,
   "metadata": {
    "collapsed": false,
    "deletable": true,
    "editable": true,
    "scrolled": true
   },
   "outputs": [],
   "source": [
    "meta2 = r2[\"search_metadata\"]\n",
    "meta2"
   ]
  },
  {
   "cell_type": "code",
   "execution_count": null,
   "metadata": {
    "collapsed": false,
    "deletable": true,
    "editable": true
   },
   "outputs": [],
   "source": [
    "for tweet in tweets2:\n",
    "    print(\"=============\")\n",
    "    print(tweet[\"id\"])\n",
    "    print(tweet[\"created_at\"])\n",
    "    print(tweet[\"text\"])"
   ]
  }
 ],
 "metadata": {
  "kernelspec": {
   "display_name": "Python 3",
   "language": "python",
   "name": "python3"
  },
  "language_info": {
   "codemirror_mode": {
    "name": "ipython",
    "version": 3
   },
   "file_extension": ".py",
   "mimetype": "text/x-python",
   "name": "python",
   "nbconvert_exporter": "python",
   "pygments_lexer": "ipython3",
   "version": "3.5.2"
  }
 },
 "nbformat": 4,
 "nbformat_minor": 2
}
